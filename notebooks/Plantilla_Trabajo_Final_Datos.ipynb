{
 "cells": [
  {
   "cell_type": "markdown",
   "metadata": {
    "colab_type": "text",
    "id": "Wbepu01LHJoL"
   },
   "source": [
    "# Trabajo Preparacion, visualizacion de Datos y Machine learning con Python<a class=\"tocSkip\">\n",
    "## Ciencia de datos en Produccion <a class=\"tocSkip\">\n",
    "\n",
    "**Estudiante:** Juan Felipe Salcedo \n",
    "\n",
    "**ID:** xxxxxxxxxx\n",
    "\n",
    "**Email:** jfsalcedo@uniquindio.edu.co"
   ]
  },
  {
   "cell_type": "markdown",
   "metadata": {
    "colab_type": "text",
    "id": "s_RCEnM3HJoL",
    "toc": true
   },
   "source": [
    "<h1>Contenido<span class=\"tocSkip\"></span></h1>\n",
    "<div class=\"toc\"><ul class=\"toc-item\"><li><span><a href=\"#Definir-el-Problema-a-Resolver\" data-toc-modified-id=\"Definir-el-Problema-a-Resolver-1\"><span class=\"toc-item-num\">1&nbsp;&nbsp;</span>Definir el Problema a Resolver</a></span><ul class=\"toc-item\"><li><span><a href=\"#Describir-los-datos-de-entrada-y-salida\" data-toc-modified-id=\"Describir-los-datos-de-entrada-y-salida-1.1\"><span class=\"toc-item-num\">1.1&nbsp;&nbsp;</span>Describir los datos de entrada y salida</a></span></li></ul></li><li><span><a href=\"#Importar-Librerias\" data-toc-modified-id=\"Importar-Librerias-2\"><span class=\"toc-item-num\">2&nbsp;&nbsp;</span>Importar Librerias</a></span></li><li><span><a href=\"#Cargar-Datasets\" data-toc-modified-id=\"Cargar-Datasets-3\"><span class=\"toc-item-num\">3&nbsp;&nbsp;</span>Cargar Datasets</a></span></li><li><span><a href=\"#Descripcion--y-Limpieza-de-los-datos\" data-toc-modified-id=\"Descripcion--y-Limpieza-de-los-datos-4\"><span class=\"toc-item-num\">4&nbsp;&nbsp;</span>Descripcion  y Limpieza de los datos</a></span><ul class=\"toc-item\"><li><span><a href=\"#Identificacion-de-Variables\" data-toc-modified-id=\"Identificacion-de-Variables-4.1\"><span class=\"toc-item-num\">4.1&nbsp;&nbsp;</span>Identificacion de Variables</a></span></li><li><span><a href=\"#Analisis-General-Univariable-y-Bivariable\" data-toc-modified-id=\"Analisis-General-Univariable-y-Bivariable-4.2\"><span class=\"toc-item-num\">4.2&nbsp;&nbsp;</span>Analisis General Univariable y Bivariable</a></span></li><li><span><a href=\"#Eliminar-columnas-de-datos-Innecesarios\" data-toc-modified-id=\"Eliminar-columnas-de-datos-Innecesarios-4.3\"><span class=\"toc-item-num\">4.3&nbsp;&nbsp;</span>Eliminar columnas de datos Innecesarios</a></span></li><li><span><a href=\"#Remover-Datos-Duplicados-Exactos\" data-toc-modified-id=\"Remover-Datos-Duplicados-Exactos-4.4\"><span class=\"toc-item-num\">4.4&nbsp;&nbsp;</span>Remover Datos Duplicados Exactos</a></span></li><li><span><a href=\"#Procesamiento-de-Datos-Faltantes\" data-toc-modified-id=\"Procesamiento-de-Datos-Faltantes-4.5\"><span class=\"toc-item-num\">4.5&nbsp;&nbsp;</span>Procesamiento de Datos Faltantes</a></span><ul class=\"toc-item\"><li><span><a href=\"#Borrar-Filas\" data-toc-modified-id=\"Borrar-Filas-4.5.1\"><span class=\"toc-item-num\">4.5.1&nbsp;&nbsp;</span>Borrar Filas</a></span></li><li><span><a href=\"#Reemplazar-datos-faltantes-con-la-Media/-Moda/-Mediana-(Mean/-Mode/-Median-Imputation)\" data-toc-modified-id=\"Reemplazar-datos-faltantes-con-la-Media/-Moda/-Mediana-(Mean/-Mode/-Median-Imputation)-4.5.2\"><span class=\"toc-item-num\">4.5.2&nbsp;&nbsp;</span>Reemplazar datos faltantes con la Media/ Moda/ Mediana (Mean/ Mode/ Median Imputation)</a></span></li></ul></li><li><span><a href=\"#Remover-Datos-Duplicados-Exactos\" data-toc-modified-id=\"Remover-Datos-Duplicados-Exactos-4.6\"><span class=\"toc-item-num\">4.6&nbsp;&nbsp;</span>Remover Datos Duplicados Exactos</a></span></li><li><span><a href=\"#Analisis-Univariable\" data-toc-modified-id=\"Analisis-Univariable-4.7\"><span class=\"toc-item-num\">4.7&nbsp;&nbsp;</span>Analisis Univariable</a></span><ul class=\"toc-item\"><li><span><a href=\"#Variables-Numericas\" data-toc-modified-id=\"Variables-Numericas-4.7.1\"><span class=\"toc-item-num\">4.7.1&nbsp;&nbsp;</span>Variables Numericas</a></span></li><li><span><a href=\"#Variables-Categoricas\" data-toc-modified-id=\"Variables-Categoricas-4.7.2\"><span class=\"toc-item-num\">4.7.2&nbsp;&nbsp;</span>Variables Categoricas</a></span></li></ul></li><li><span><a href=\"#Analisis-Bivariable\" data-toc-modified-id=\"Analisis-Bivariable-4.8\"><span class=\"toc-item-num\">4.8&nbsp;&nbsp;</span>Analisis Bivariable</a></span><ul class=\"toc-item\"><li><span><a href=\"#Numericas-vs-Numericas\" data-toc-modified-id=\"Numericas-vs-Numericas-4.8.1\"><span class=\"toc-item-num\">4.8.1&nbsp;&nbsp;</span>Numericas vs Numericas</a></span></li><li><span><a href=\"#Categoricas-vs-Categoricas\" data-toc-modified-id=\"Categoricas-vs-Categoricas-4.8.2\"><span class=\"toc-item-num\">4.8.2&nbsp;&nbsp;</span>Categoricas vs Categoricas</a></span></li><li><span><a href=\"#Categoricas-vs-Numericas\" data-toc-modified-id=\"Categoricas-vs-Numericas-4.8.3\"><span class=\"toc-item-num\">4.8.3&nbsp;&nbsp;</span>Categoricas vs Numericas</a></span></li></ul></li><li><span><a href=\"#Procesamiento-de-Outliers\" data-toc-modified-id=\"Procesamiento-de-Outliers-4.9\"><span class=\"toc-item-num\">4.9&nbsp;&nbsp;</span>Procesamiento de Outliers</a></span><ul class=\"toc-item\"><li><span><a href=\"#Deteccion-de-Outliers-(Univariables-y-Bi-variables)\" data-toc-modified-id=\"Deteccion-de-Outliers-(Univariables-y-Bi-variables)-4.9.1\"><span class=\"toc-item-num\">4.9.1&nbsp;&nbsp;</span>Deteccion de Outliers (Univariables y Bi variables)</a></span></li><li><span><a href=\"#Remover-Outliers\" data-toc-modified-id=\"Remover-Outliers-4.9.2\"><span class=\"toc-item-num\">4.9.2&nbsp;&nbsp;</span>Remover Outliers</a></span></li></ul></li><li><span><a href=\"#Procesamiento-de-Outliers\" data-toc-modified-id=\"Procesamiento-de-Outliers-4.10\"><span class=\"toc-item-num\">4.10&nbsp;&nbsp;</span>Procesamiento de Outliers</a></span><ul class=\"toc-item\"><li><span><a href=\"#Deteccion-de-Outliers-(Univariables-y-Bi-variables)\" data-toc-modified-id=\"Deteccion-de-Outliers-(Univariables-y-Bi-variables)-4.10.1\"><span class=\"toc-item-num\">4.10.1&nbsp;&nbsp;</span>Deteccion de Outliers (Univariables y Bi variables)</a></span></li><li><span><a href=\"#Remover-Outliers\" data-toc-modified-id=\"Remover-Outliers-4.10.2\"><span class=\"toc-item-num\">4.10.2&nbsp;&nbsp;</span>Remover Outliers</a></span></li></ul></li><li><span><a href=\"#Feature-Engineering\" data-toc-modified-id=\"Feature-Engineering-4.11\"><span class=\"toc-item-num\">4.11&nbsp;&nbsp;</span>Feature Engineering</a></span><ul class=\"toc-item\"><li><span><a href=\"#Transformacion-de-Variables\" data-toc-modified-id=\"Transformacion-de-Variables-4.11.1\"><span class=\"toc-item-num\">4.11.1&nbsp;&nbsp;</span>Transformacion de Variables</a></span><ul class=\"toc-item\"><li><span><a href=\"#Normalizacion\" data-toc-modified-id=\"Normalizacion-4.11.1.1\"><span class=\"toc-item-num\">4.11.1.1&nbsp;&nbsp;</span>Normalizacion</a></span></li><li><span><a href=\"#Escalamiento\" data-toc-modified-id=\"Escalamiento-4.11.1.2\"><span class=\"toc-item-num\">4.11.1.2&nbsp;&nbsp;</span>Escalamiento</a></span></li><li><span><a href=\"#Logaritmica\" data-toc-modified-id=\"Logaritmica-4.11.1.3\"><span class=\"toc-item-num\">4.11.1.3&nbsp;&nbsp;</span>Logaritmica</a></span></li><li><span><a href=\"#raíz-cuadrada-/-cúbica\" data-toc-modified-id=\"raíz-cuadrada-/-cúbica-4.11.1.4\"><span class=\"toc-item-num\">4.11.1.4&nbsp;&nbsp;</span>raíz cuadrada / cúbica</a></span></li><li><span><a href=\"#Binning-,-Cambios-de-Numericas-a-Categoricas\" data-toc-modified-id=\"Binning-,-Cambios-de-Numericas-a-Categoricas-4.11.1.5\"><span class=\"toc-item-num\">4.11.1.5&nbsp;&nbsp;</span>Binning , Cambios de Numericas a Categoricas</a></span></li></ul></li></ul></li><li><span><a href=\"#Analisis-Univariable-y-Bivariable-Final\" data-toc-modified-id=\"Analisis-Univariable-y-Bivariable-Final-4.12\"><span class=\"toc-item-num\">4.12&nbsp;&nbsp;</span>Analisis Univariable y Bivariable Final</a></span><ul class=\"toc-item\"><li><span><a href=\"#Creacion-de-Variables\" data-toc-modified-id=\"Creacion-de-Variables-4.12.1\"><span class=\"toc-item-num\">4.12.1&nbsp;&nbsp;</span>Creacion de Variables</a></span><ul class=\"toc-item\"><li><span><a href=\"#Crear-Variables-derivadas-de-Otras\" data-toc-modified-id=\"Crear-Variables-derivadas-de-Otras-4.12.1.1\"><span class=\"toc-item-num\">4.12.1.1&nbsp;&nbsp;</span>Crear Variables derivadas de Otras</a></span></li><li><span><a href=\"#Crear-Variables-de-Categorico-a-Numerico\" data-toc-modified-id=\"Crear-Variables-de-Categorico-a-Numerico-4.12.1.2\"><span class=\"toc-item-num\">4.12.1.2&nbsp;&nbsp;</span>Crear Variables de Categorico a Numerico</a></span></li></ul></li></ul></li><li><span><a href=\"#Reduccion-de-Dimensionalidad-y-Seleccion-de-Variables-(PCA)\" data-toc-modified-id=\"Reduccion-de-Dimensionalidad-y-Seleccion-de-Variables-(PCA)-4.13\"><span class=\"toc-item-num\">4.13&nbsp;&nbsp;</span>Reduccion de Dimensionalidad y Seleccion de Variables (PCA)</a></span></li><li><span><a href=\"#Balance-de-datos\" data-toc-modified-id=\"Balance-de-datos-4.14\"><span class=\"toc-item-num\">4.14&nbsp;&nbsp;</span>Balance de datos</a></span></li></ul></li><li><span><a href=\"#MODELAMIENTO-DE-LOS-DATOS-(MACHINE-LEARNING)\" data-toc-modified-id=\"MODELAMIENTO-DE-LOS-DATOS-(MACHINE-LEARNING)-5\"><span class=\"toc-item-num\">5&nbsp;&nbsp;</span>MODELAMIENTO DE LOS DATOS (MACHINE LEARNING)</a></span><ul class=\"toc-item\"><li><span><a href=\"#Dividir-el-dataset-en-Training-set-y-Test-set\" data-toc-modified-id=\"Dividir-el-dataset-en-Training-set-y-Test-set-5.1\"><span class=\"toc-item-num\">5.1&nbsp;&nbsp;</span>Dividir el dataset en Training set y Test set</a></span></li></ul></li><li><span><a href=\"#Validacion-y-Evaluacion-Cruzada-(k-fold-Cross-Validation)\" data-toc-modified-id=\"Validacion-y-Evaluacion-Cruzada-(k-fold-Cross-Validation)-6\"><span class=\"toc-item-num\">6&nbsp;&nbsp;</span>Validacion y Evaluacion Cruzada (k-fold Cross Validation)</a></span></li><li><span><a href=\"#Optimizacion-de-Hiper-parametros-(Hyper-Parameter-optimization)\" data-toc-modified-id=\"Optimizacion-de-Hiper-parametros-(Hyper-Parameter-optimization)-7\"><span class=\"toc-item-num\">7&nbsp;&nbsp;</span>Optimizacion de Hiper parametros (Hyper Parameter optimization)</a></span></li><li><span><a href=\"#Evaluacion-final-del-modelo-con-el-Test-set\" data-toc-modified-id=\"Evaluacion-final-del-modelo-con-el-Test-set-8\"><span class=\"toc-item-num\">8&nbsp;&nbsp;</span>Evaluacion final del modelo con el Test set</a></span></li><li><span><a href=\"#Implementacion-del-Modelo-(Deploying)\" data-toc-modified-id=\"Implementacion-del-Modelo-(Deploying)-9\"><span class=\"toc-item-num\">9&nbsp;&nbsp;</span>Implementacion del Modelo (Deploying)</a></span></li><li><span><a href=\"#Comunicacion-de-Resultados-(Data-Story-Telling)\" data-toc-modified-id=\"Comunicacion-de-Resultados-(Data-Story-Telling)-10\"><span class=\"toc-item-num\">10&nbsp;&nbsp;</span>Comunicacion de Resultados (Data Story Telling)</a></span></li><li><span><a href=\"#Conclusiones\" data-toc-modified-id=\"Conclusiones-11\"><span class=\"toc-item-num\">11&nbsp;&nbsp;</span>Conclusiones</a></span></li><li><span><a href=\"#Ayudas-Y-Referencias\" data-toc-modified-id=\"Ayudas-Y-Referencias-12\"><span class=\"toc-item-num\">12&nbsp;&nbsp;</span>Ayudas Y Referencias</a></span></li></ul></div>"
   ]
  },
  {
   "cell_type": "markdown",
   "metadata": {},
   "source": [
    "## Objetivo del Trabajo <a class=\"tocSkip\">\n",
    "El objetivo inicial del trabajo es utilizar Python para el procesamiento, descripcion  y visualización de datos, con el fin de dejar los datos preparados para ser usados con algoritmos de Machine Learning para Regresión o Clasificación como objetivo final del trabajo.\n",
    "\n",
    "El trabajo se realizara en Python usando un jupyter notebook o un Notebook de Google Collaboratory, llenando los campos de este archivo y subirlo a github.\n",
    "\n",
    "## Las actividades a realizar<a class=\"tocSkip\">\n",
    "    \n",
    "    \n",
    "1) Preparar los datos, hacer cada uno de los pasos solo si es necesario:\n",
    "      \n",
    "    - Poner los datos en sus tipos de datos correctos\n",
    "    - Remover los valores duplicados\n",
    "    - Procesar y Reemplazar los datos que faltan (Missing N.A values)\n",
    "    - Manejo de outliers\n",
    "    - Re-escalar las variables\n",
    "    - Normalizar\n",
    "    - Data Binning\n",
    "        - Conversión Numérico a categórico\n",
    "        - Conversión Categórico a Numérico\n",
    "\n",
    "2) Realizar una exploración estadística y con visualización de los datos\n",
    "    - Scatter plots\n",
    "    - Histogramas\n",
    "    - boxplot, o las gráficas que considere necesarias\n",
    "\n",
    "\n",
    "3) Entrene y Evalue modelos de Machine Learning según sea su problema, recuerde usar k-fold cross-validation para evitar over fitting, algunos algoritmos recomendados\n",
    "\n",
    "    (a) PREDICCIÓN:\n",
    "    \n",
    "            ▪ Regresión Lineal\n",
    "            ▪ Lasso\n",
    "            ▪ Ridge\n",
    "            ▪ Decision Tree regressor\n",
    "            ▪ Random Forest regressor\n",
    "            ▪ SVR\n",
    "            ▪ KNR\n",
    "            ▪ catboost regressor\n",
    "            \n",
    "    \n",
    "    \n",
    "    (b) CLASIFICACION\n",
    "      \n",
    "            ▪ Regresión Logística\n",
    "            ▪ LinearSVC\n",
    "            ▪ KernelSVC\n",
    "            ▪ Decision Tree clasifier\n",
    "            ▪ Random Forest classifier\n",
    "            ▪ K-NN\n",
    "            ▪ GaussianNB\n",
    "            ▪ catboost\n",
    "    \n",
    "**Nota: utilizar visualizaciones para comunicar los resultados obtenidos.**    \n",
    "            \n",
    "4) Realizar hyperparameter optimization  de los dos métodos que tengan mejor resultado en los pasos anteriores para mejorar el desempeño obtenido. (Tenga en cuenta, que realizar el hyperparameter tuning no garantiza una mejora significativa en el desempeño, pero es bueno intentarlo)\n",
    "    \n",
    "5) Realizar comentarios de cada paso que va realizando en el documento y finalmente también agregue **conclusiones** de:\n",
    "    \n",
    "    - los datos procesados\n",
    "    - la información que observa\n",
    "    - Comparación de la evaluación de los Métodos\n",
    "    - Cual fue el mejor modelo que obtuvo luego de la hiper parametrización\n",
    "    \n",
    "    \n",
    "*NOTA: No dude en contactarme para cualquier pregunta o inquietud :)\n",
    "\n",
    "## FORMATO DE ENTREGA  <a class=\"tocSkip\">\n",
    "\n",
    "EL jupyter notebook estara alojado en un repositorio de Github\n",
    "\n",
    "El código debe tener comentarios y explicaciones de la solución del trabajo.\n",
    "\n",
    "\n",
    "## EVALUACION <a class=\"tocSkip\">\n",
    "(33 % ) preparacion, descripcion y visualizacion de datos\n",
    "    \n",
    "(33 % ) Machine Learning, hiperparametrizacion y Conclusiones\n",
    "    \n",
    "\n",
    "|Porcentaje en la evaluación | Descripción| Nada | Incompleto | Completo |\n",
    "| :---: |:---: |:---: |:---: |:---: |\n",
    "| 11 % |**Preparación de los datos** <br> (datos nulos, outliers, duplicados, <br> corrección de formatos de tipos de datos) |\n",
    "|11 % | **Visualización de datos** <br> (Univarible y Bivariable) <br> Histogramas, boxplots, correlaciones, etc|\n",
    "|11 % | **Descripción y Análisis Estadístico de los datos** |\n",
    "|11 % | **Machine Learning** <br> Entrenar y evaluar todos los modelos propuestos |\n",
    "|11 % | **Hiper parametrizacion** <br> Hiperparametrizar 2 modelos y escoger el mejor modelo |   \n",
    "|11 % | **Resultados y Conclusiones** <br> analisis de los datos, conclusiones del modelos y los resultados obtenidos|\n",
    "\n",
    "\n",
    "Ejemplos y links de ayuda al final del documento"
   ]
  },
  {
   "cell_type": "markdown",
   "metadata": {
    "colab_type": "text",
    "id": "XE2q_0ARHJoM"
   },
   "source": [
    "# Definir el Problema a Resolver\n",
    "\n",
    "\n",
    "\"Pedro Perez creo su propia empresa de telefonía móvil. \n",
    "Él quiere ser mejor que Apple, Samsung, etc.\n",
    "\n",
    "No sabe cómo estimar el precio de los móviles que crea su empresa. \n",
    "En este mercado competitivo de teléfonos móviles no puedes simplemente asumir cosas.\n",
    "Para resolver este problema, recopila datos de ventas de teléfonos móviles de varias compañías.\n",
    "\n",
    "Pedro desea averiguar alguna relación entre las características de un teléfono móvil \n",
    "(por ejemplo: - RAM, memoria interna, etc.) y su precio de venta. \n",
    "Pero no es tan bueno en Machine Learning. Entonces él necesita tu ayuda para resolver este problema.\n",
    "\n",
    "En este problema, no tiene que predecir el precio real sino un rango de precios que indica qué tan alto es el precio.\""
   ]
  },
  {
   "cell_type": "markdown",
   "metadata": {
    "colab_type": "text",
    "id": "0fWGXusiHJoO"
   },
   "source": [
    "## Describir los datos de entrada y salida\n",
    "- Cantidad de Variables\n",
    "- Tipo de Variables\n",
    "- Significado de cada Variable"
   ]
  },
  {
   "cell_type": "markdown",
   "metadata": {
    "colab_type": "text",
    "id": "MjPWhesSHJoO"
   },
   "source": [
    "# Importar Librerias"
   ]
  },
  {
   "cell_type": "code",
   "execution_count": 3,
   "metadata": {
    "colab": {},
    "colab_type": "code",
    "id": "ksQYJRZTHJoP"
   },
   "outputs": [],
   "source": [
    "import pandas as pd\n",
    "import numpy as np \n",
    "from sklearn.model_selection import train_test_split\n"
   ]
  },
  {
   "cell_type": "markdown",
   "metadata": {
    "colab_type": "text",
    "id": "LM4dC7lBHJoT"
   },
   "source": [
    "# Cargar Datasets"
   ]
  },
  {
   "cell_type": "code",
   "execution_count": 4,
   "metadata": {
    "colab": {},
    "colab_type": "code",
    "id": "R2C-zrtBHJoT"
   },
   "outputs": [],
   "source": [
    "raw_data = pd.read_csv('../data/raw/CellPhoneDS.csv')"
   ]
  },
  {
   "cell_type": "markdown",
   "metadata": {},
   "source": [
    "# Descripcion General del Dataset\n",
    "- numero de filas y columnas\n",
    "- tipos de datos y si estan correctos"
   ]
  },
  {
   "cell_type": "code",
   "execution_count": 5,
   "metadata": {},
   "outputs": [
    {
     "data": {
      "text/html": [
       "<div>\n",
       "<style scoped>\n",
       "    .dataframe tbody tr th:only-of-type {\n",
       "        vertical-align: middle;\n",
       "    }\n",
       "\n",
       "    .dataframe tbody tr th {\n",
       "        vertical-align: top;\n",
       "    }\n",
       "\n",
       "    .dataframe thead th {\n",
       "        text-align: right;\n",
       "    }\n",
       "</style>\n",
       "<table border=\"1\" class=\"dataframe\">\n",
       "  <thead>\n",
       "    <tr style=\"text-align: right;\">\n",
       "      <th></th>\n",
       "      <th>Unnamed: 0</th>\n",
       "      <th>index</th>\n",
       "      <th>talk_time</th>\n",
       "      <th>battery_power</th>\n",
       "      <th>pc</th>\n",
       "      <th>three_g</th>\n",
       "      <th>mobile_wt</th>\n",
       "      <th>px_width</th>\n",
       "      <th>sc_h</th>\n",
       "      <th>sc_w</th>\n",
       "      <th>...</th>\n",
       "      <th>price_range</th>\n",
       "      <th>blue</th>\n",
       "      <th>n_cores</th>\n",
       "      <th>wifi</th>\n",
       "      <th>dual_sim</th>\n",
       "      <th>ram</th>\n",
       "      <th>werf</th>\n",
       "      <th>int_memory</th>\n",
       "      <th>px_height</th>\n",
       "      <th>clock_speed</th>\n",
       "    </tr>\n",
       "  </thead>\n",
       "  <tbody>\n",
       "    <tr>\n",
       "      <th>0</th>\n",
       "      <td>0</td>\n",
       "      <td>1517</td>\n",
       "      <td>11.0</td>\n",
       "      <td>911.0</td>\n",
       "      <td>4.0</td>\n",
       "      <td>0.0</td>\n",
       "      <td>199.0</td>\n",
       "      <td>1692.0</td>\n",
       "      <td>16.0</td>\n",
       "      <td>3.0</td>\n",
       "      <td>...</td>\n",
       "      <td>3.0</td>\n",
       "      <td>0.0</td>\n",
       "      <td>4.0</td>\n",
       "      <td>0.0</td>\n",
       "      <td>1.0</td>\n",
       "      <td>2933.0</td>\n",
       "      <td>9156615</td>\n",
       "      <td>14.0</td>\n",
       "      <td>1563.0</td>\n",
       "      <td>1.4</td>\n",
       "    </tr>\n",
       "    <tr>\n",
       "      <th>1</th>\n",
       "      <td>1</td>\n",
       "      <td>911</td>\n",
       "      <td>9.0</td>\n",
       "      <td>1284.0</td>\n",
       "      <td>14.0</td>\n",
       "      <td>0.0</td>\n",
       "      <td>155.0</td>\n",
       "      <td>-948961565145.0</td>\n",
       "      <td>16.0</td>\n",
       "      <td>2.0</td>\n",
       "      <td>...</td>\n",
       "      <td>1.0</td>\n",
       "      <td>1.0</td>\n",
       "      <td>2.0</td>\n",
       "      <td>1.0</td>\n",
       "      <td>1.0</td>\n",
       "      <td>2197.0</td>\n",
       "      <td>9156615</td>\n",
       "      <td>10.0</td>\n",
       "      <td>160.0</td>\n",
       "      <td>2.8</td>\n",
       "    </tr>\n",
       "    <tr>\n",
       "      <th>2</th>\n",
       "      <td>2</td>\n",
       "      <td>1493</td>\n",
       "      <td>3.0</td>\n",
       "      <td>1183.0</td>\n",
       "      <td>nhbgvfrtd 56gyub</td>\n",
       "      <td>1.0</td>\n",
       "      <td>120.0</td>\n",
       "      <td>nhbgvfrtd 56gyub</td>\n",
       "      <td>nhbgvfrtd 56gyub</td>\n",
       "      <td>3.0</td>\n",
       "      <td>...</td>\n",
       "      <td>0.0</td>\n",
       "      <td>1.0</td>\n",
       "      <td>8.0</td>\n",
       "      <td>0.0</td>\n",
       "      <td>1.0</td>\n",
       "      <td>nhbgvfrtd 56gyub</td>\n",
       "      <td>9156615</td>\n",
       "      <td>nhbgvfrtd 56gyub</td>\n",
       "      <td>268.0</td>\n",
       "      <td>0.5</td>\n",
       "    </tr>\n",
       "    <tr>\n",
       "      <th>3</th>\n",
       "      <td>3</td>\n",
       "      <td>970</td>\n",
       "      <td>3.0</td>\n",
       "      <td>904.0</td>\n",
       "      <td>9.0</td>\n",
       "      <td>1.0</td>\n",
       "      <td>102.0</td>\n",
       "      <td>NaN</td>\n",
       "      <td>7.0</td>\n",
       "      <td>0.0</td>\n",
       "      <td>...</td>\n",
       "      <td>1.0</td>\n",
       "      <td>NaN</td>\n",
       "      <td>8.0</td>\n",
       "      <td>1.0</td>\n",
       "      <td>1.0</td>\n",
       "      <td>1846.0</td>\n",
       "      <td>9156615</td>\n",
       "      <td>14.0</td>\n",
       "      <td>56.0</td>\n",
       "      <td>1.6</td>\n",
       "    </tr>\n",
       "    <tr>\n",
       "      <th>4</th>\n",
       "      <td>4</td>\n",
       "      <td>2187</td>\n",
       "      <td>-948961565145.0</td>\n",
       "      <td>1893.0</td>\n",
       "      <td>11.0</td>\n",
       "      <td>0.0</td>\n",
       "      <td>134.0</td>\n",
       "      <td>-948961565145.0</td>\n",
       "      <td>-948961565145.0</td>\n",
       "      <td>3.0</td>\n",
       "      <td>...</td>\n",
       "      <td>3.0</td>\n",
       "      <td>1.0</td>\n",
       "      <td>2.0</td>\n",
       "      <td>1.0</td>\n",
       "      <td>1.0</td>\n",
       "      <td>3822.0</td>\n",
       "      <td>9156615</td>\n",
       "      <td>63.0</td>\n",
       "      <td>-948961565145.0</td>\n",
       "      <td>2.1</td>\n",
       "    </tr>\n",
       "    <tr>\n",
       "      <th>...</th>\n",
       "      <td>...</td>\n",
       "      <td>...</td>\n",
       "      <td>...</td>\n",
       "      <td>...</td>\n",
       "      <td>...</td>\n",
       "      <td>...</td>\n",
       "      <td>...</td>\n",
       "      <td>...</td>\n",
       "      <td>...</td>\n",
       "      <td>...</td>\n",
       "      <td>...</td>\n",
       "      <td>...</td>\n",
       "      <td>...</td>\n",
       "      <td>...</td>\n",
       "      <td>...</td>\n",
       "      <td>...</td>\n",
       "      <td>...</td>\n",
       "      <td>...</td>\n",
       "      <td>...</td>\n",
       "      <td>...</td>\n",
       "      <td>...</td>\n",
       "    </tr>\n",
       "    <tr>\n",
       "      <th>74785</th>\n",
       "      <td>74785</td>\n",
       "      <td>2096</td>\n",
       "      <td>16.0</td>\n",
       "      <td>1905.0</td>\n",
       "      <td>20.0</td>\n",
       "      <td>1.0</td>\n",
       "      <td>119.0</td>\n",
       "      <td>1542.0</td>\n",
       "      <td>13.0</td>\n",
       "      <td>4.0</td>\n",
       "      <td>...</td>\n",
       "      <td>1.0</td>\n",
       "      <td>0.0</td>\n",
       "      <td>NaN</td>\n",
       "      <td>NaN</td>\n",
       "      <td>1.0</td>\n",
       "      <td>1287.0</td>\n",
       "      <td>9156615</td>\n",
       "      <td>36.0</td>\n",
       "      <td>825.0</td>\n",
       "      <td>0.6</td>\n",
       "    </tr>\n",
       "    <tr>\n",
       "      <th>74786</th>\n",
       "      <td>74786</td>\n",
       "      <td>553</td>\n",
       "      <td>18.0</td>\n",
       "      <td>1544.0</td>\n",
       "      <td>20.0</td>\n",
       "      <td>1.0</td>\n",
       "      <td>nhbgvfrtd 56gyub</td>\n",
       "      <td>857.0</td>\n",
       "      <td>8.0</td>\n",
       "      <td>7.0</td>\n",
       "      <td>...</td>\n",
       "      <td>1.0</td>\n",
       "      <td>nhbgvfrtd 56gyub</td>\n",
       "      <td>8.0</td>\n",
       "      <td>0.0</td>\n",
       "      <td>0.0</td>\n",
       "      <td>1300.0</td>\n",
       "      <td>9156615</td>\n",
       "      <td>45.0</td>\n",
       "      <td>236.0</td>\n",
       "      <td>2.3</td>\n",
       "    </tr>\n",
       "    <tr>\n",
       "      <th>74787</th>\n",
       "      <td>74787</td>\n",
       "      <td>1282</td>\n",
       "      <td>18.0</td>\n",
       "      <td>-948961565145.0</td>\n",
       "      <td>6.0</td>\n",
       "      <td>1.0</td>\n",
       "      <td>81.0</td>\n",
       "      <td>1524.0</td>\n",
       "      <td>16.0</td>\n",
       "      <td>3.0</td>\n",
       "      <td>...</td>\n",
       "      <td>1.0</td>\n",
       "      <td>1.0</td>\n",
       "      <td>6.0</td>\n",
       "      <td>1.0</td>\n",
       "      <td>0.0</td>\n",
       "      <td>1905.0</td>\n",
       "      <td>9156615</td>\n",
       "      <td>10.0</td>\n",
       "      <td>113.0</td>\n",
       "      <td>0.5</td>\n",
       "    </tr>\n",
       "    <tr>\n",
       "      <th>74788</th>\n",
       "      <td>74788</td>\n",
       "      <td>946</td>\n",
       "      <td>NaN</td>\n",
       "      <td>1625.0</td>\n",
       "      <td>17.0</td>\n",
       "      <td>1.0</td>\n",
       "      <td>107.0</td>\n",
       "      <td>1219.0</td>\n",
       "      <td>16.0</td>\n",
       "      <td>3.0</td>\n",
       "      <td>...</td>\n",
       "      <td>NaN</td>\n",
       "      <td>1.0</td>\n",
       "      <td>8.0</td>\n",
       "      <td>0.0</td>\n",
       "      <td>1.0</td>\n",
       "      <td>670.0</td>\n",
       "      <td>9156615</td>\n",
       "      <td>50.0</td>\n",
       "      <td>8.0</td>\n",
       "      <td>0.5</td>\n",
       "    </tr>\n",
       "    <tr>\n",
       "      <th>74789</th>\n",
       "      <td>74789</td>\n",
       "      <td>454</td>\n",
       "      <td>9.0</td>\n",
       "      <td>932.0</td>\n",
       "      <td>2.0</td>\n",
       "      <td>1.0</td>\n",
       "      <td>nhbgvfrtd 56gyub</td>\n",
       "      <td>1224.0</td>\n",
       "      <td>8.0</td>\n",
       "      <td>nhbgvfrtd 56gyub</td>\n",
       "      <td>...</td>\n",
       "      <td>3.0</td>\n",
       "      <td>0.0</td>\n",
       "      <td>nhbgvfrtd 56gyub</td>\n",
       "      <td>1.0</td>\n",
       "      <td>0.0</td>\n",
       "      <td>3817.0</td>\n",
       "      <td>9156615</td>\n",
       "      <td>64.0</td>\n",
       "      <td>1176.0</td>\n",
       "      <td>1.3</td>\n",
       "    </tr>\n",
       "  </tbody>\n",
       "</table>\n",
       "<p>74790 rows × 25 columns</p>\n",
       "</div>"
      ],
      "text/plain": [
       "       Unnamed: 0  index        talk_time    battery_power                pc  \\\n",
       "0               0   1517             11.0            911.0               4.0   \n",
       "1               1    911              9.0           1284.0              14.0   \n",
       "2               2   1493              3.0           1183.0  nhbgvfrtd 56gyub   \n",
       "3               3    970              3.0            904.0               9.0   \n",
       "4               4   2187  -948961565145.0           1893.0              11.0   \n",
       "...           ...    ...              ...              ...               ...   \n",
       "74785       74785   2096             16.0           1905.0              20.0   \n",
       "74786       74786    553             18.0           1544.0              20.0   \n",
       "74787       74787   1282             18.0  -948961565145.0               6.0   \n",
       "74788       74788    946              NaN           1625.0              17.0   \n",
       "74789       74789    454              9.0            932.0               2.0   \n",
       "\n",
       "      three_g         mobile_wt          px_width              sc_h  \\\n",
       "0         0.0             199.0            1692.0              16.0   \n",
       "1         0.0             155.0   -948961565145.0              16.0   \n",
       "2         1.0             120.0  nhbgvfrtd 56gyub  nhbgvfrtd 56gyub   \n",
       "3         1.0             102.0               NaN               7.0   \n",
       "4         0.0             134.0   -948961565145.0   -948961565145.0   \n",
       "...       ...               ...               ...               ...   \n",
       "74785     1.0             119.0            1542.0              13.0   \n",
       "74786     1.0  nhbgvfrtd 56gyub             857.0               8.0   \n",
       "74787     1.0              81.0            1524.0              16.0   \n",
       "74788     1.0             107.0            1219.0              16.0   \n",
       "74789     1.0  nhbgvfrtd 56gyub            1224.0               8.0   \n",
       "\n",
       "                   sc_w  ... price_range              blue           n_cores  \\\n",
       "0                   3.0  ...         3.0               0.0               4.0   \n",
       "1                   2.0  ...         1.0               1.0               2.0   \n",
       "2                   3.0  ...         0.0               1.0               8.0   \n",
       "3                   0.0  ...         1.0               NaN               8.0   \n",
       "4                   3.0  ...         3.0               1.0               2.0   \n",
       "...                 ...  ...         ...               ...               ...   \n",
       "74785               4.0  ...         1.0               0.0               NaN   \n",
       "74786               7.0  ...         1.0  nhbgvfrtd 56gyub               8.0   \n",
       "74787               3.0  ...         1.0               1.0               6.0   \n",
       "74788               3.0  ...         NaN               1.0               8.0   \n",
       "74789  nhbgvfrtd 56gyub  ...         3.0               0.0  nhbgvfrtd 56gyub   \n",
       "\n",
       "      wifi dual_sim               ram     werf        int_memory  \\\n",
       "0      0.0      1.0            2933.0  9156615              14.0   \n",
       "1      1.0      1.0            2197.0  9156615              10.0   \n",
       "2      0.0      1.0  nhbgvfrtd 56gyub  9156615  nhbgvfrtd 56gyub   \n",
       "3      1.0      1.0            1846.0  9156615              14.0   \n",
       "4      1.0      1.0            3822.0  9156615              63.0   \n",
       "...    ...      ...               ...      ...               ...   \n",
       "74785  NaN      1.0            1287.0  9156615              36.0   \n",
       "74786  0.0      0.0            1300.0  9156615              45.0   \n",
       "74787  1.0      0.0            1905.0  9156615              10.0   \n",
       "74788  0.0      1.0             670.0  9156615              50.0   \n",
       "74789  1.0      0.0            3817.0  9156615              64.0   \n",
       "\n",
       "             px_height clock_speed  \n",
       "0               1563.0         1.4  \n",
       "1                160.0         2.8  \n",
       "2                268.0         0.5  \n",
       "3                 56.0         1.6  \n",
       "4      -948961565145.0         2.1  \n",
       "...                ...         ...  \n",
       "74785            825.0         0.6  \n",
       "74786            236.0         2.3  \n",
       "74787            113.0         0.5  \n",
       "74788              8.0         0.5  \n",
       "74789           1176.0         1.3  \n",
       "\n",
       "[74790 rows x 25 columns]"
      ]
     },
     "execution_count": 5,
     "metadata": {},
     "output_type": "execute_result"
    }
   ],
   "source": [
    "raw_data"
   ]
  },
  {
   "cell_type": "code",
   "execution_count": 6,
   "metadata": {},
   "outputs": [
    {
     "data": {
      "text/html": [
       "<div>\n",
       "<style scoped>\n",
       "    .dataframe tbody tr th:only-of-type {\n",
       "        vertical-align: middle;\n",
       "    }\n",
       "\n",
       "    .dataframe tbody tr th {\n",
       "        vertical-align: top;\n",
       "    }\n",
       "\n",
       "    .dataframe thead th {\n",
       "        text-align: right;\n",
       "    }\n",
       "</style>\n",
       "<table border=\"1\" class=\"dataframe\">\n",
       "  <thead>\n",
       "    <tr style=\"text-align: right;\">\n",
       "      <th></th>\n",
       "      <th>53047</th>\n",
       "      <th>63001</th>\n",
       "      <th>23658</th>\n",
       "      <th>67425</th>\n",
       "      <th>64537</th>\n",
       "      <th>24233</th>\n",
       "      <th>15447</th>\n",
       "      <th>22982</th>\n",
       "      <th>24624</th>\n",
       "      <th>19688</th>\n",
       "    </tr>\n",
       "  </thead>\n",
       "  <tbody>\n",
       "    <tr>\n",
       "      <th>Unnamed: 0</th>\n",
       "      <td>53047</td>\n",
       "      <td>63001</td>\n",
       "      <td>23658</td>\n",
       "      <td>67425</td>\n",
       "      <td>64537</td>\n",
       "      <td>24233</td>\n",
       "      <td>15447</td>\n",
       "      <td>22982</td>\n",
       "      <td>24624</td>\n",
       "      <td>19688</td>\n",
       "    </tr>\n",
       "    <tr>\n",
       "      <th>index</th>\n",
       "      <td>616</td>\n",
       "      <td>349</td>\n",
       "      <td>1478</td>\n",
       "      <td>1674</td>\n",
       "      <td>1090</td>\n",
       "      <td>432</td>\n",
       "      <td>2455</td>\n",
       "      <td>313</td>\n",
       "      <td>1859</td>\n",
       "      <td>210</td>\n",
       "    </tr>\n",
       "    <tr>\n",
       "      <th>talk_time</th>\n",
       "      <td>18.0</td>\n",
       "      <td>18.0</td>\n",
       "      <td>12.0</td>\n",
       "      <td>20.0</td>\n",
       "      <td>7.0</td>\n",
       "      <td>14.0</td>\n",
       "      <td>12.0</td>\n",
       "      <td>13.0</td>\n",
       "      <td>nhbgvfrtd 56gyub</td>\n",
       "      <td>13.0</td>\n",
       "    </tr>\n",
       "    <tr>\n",
       "      <th>battery_power</th>\n",
       "      <td>1369.0</td>\n",
       "      <td>635.0</td>\n",
       "      <td>-948961565145.0</td>\n",
       "      <td>1945.0</td>\n",
       "      <td>1245.0</td>\n",
       "      <td>1421.0</td>\n",
       "      <td>537.0</td>\n",
       "      <td>645.0</td>\n",
       "      <td>649.0</td>\n",
       "      <td>1395.0</td>\n",
       "    </tr>\n",
       "    <tr>\n",
       "      <th>pc</th>\n",
       "      <td>7.0</td>\n",
       "      <td>4.0</td>\n",
       "      <td>10.0</td>\n",
       "      <td>5.0</td>\n",
       "      <td>3.0</td>\n",
       "      <td>5285988458456.0</td>\n",
       "      <td>2.0</td>\n",
       "      <td>17.0</td>\n",
       "      <td>12.0</td>\n",
       "      <td>1.0</td>\n",
       "    </tr>\n",
       "    <tr>\n",
       "      <th>three_g</th>\n",
       "      <td>0.0</td>\n",
       "      <td>0.0</td>\n",
       "      <td>1.0</td>\n",
       "      <td>0.0</td>\n",
       "      <td>1.0</td>\n",
       "      <td>1.0</td>\n",
       "      <td>1.0</td>\n",
       "      <td>1.0</td>\n",
       "      <td>nhbgvfrtd 56gyub</td>\n",
       "      <td>1.0</td>\n",
       "    </tr>\n",
       "    <tr>\n",
       "      <th>mobile_wt</th>\n",
       "      <td>162.0</td>\n",
       "      <td>NaN</td>\n",
       "      <td>-948961565145.0</td>\n",
       "      <td>112.0</td>\n",
       "      <td>105.0</td>\n",
       "      <td>165.0</td>\n",
       "      <td>103.0</td>\n",
       "      <td>184.0</td>\n",
       "      <td>nhbgvfrtd 56gyub</td>\n",
       "      <td>111.0</td>\n",
       "    </tr>\n",
       "    <tr>\n",
       "      <th>px_width</th>\n",
       "      <td>727.0</td>\n",
       "      <td>1059.0</td>\n",
       "      <td>1021.0</td>\n",
       "      <td>1540.0</td>\n",
       "      <td>1434.0</td>\n",
       "      <td>1657.0</td>\n",
       "      <td>1430.0</td>\n",
       "      <td>NaN</td>\n",
       "      <td>nhbgvfrtd 56gyub</td>\n",
       "      <td>705.0</td>\n",
       "    </tr>\n",
       "    <tr>\n",
       "      <th>sc_h</th>\n",
       "      <td>18.0</td>\n",
       "      <td>12.0</td>\n",
       "      <td>-948961565145.0</td>\n",
       "      <td>??????</td>\n",
       "      <td>5285988458456.0</td>\n",
       "      <td>5285988458456.0</td>\n",
       "      <td>10.0</td>\n",
       "      <td>NaN</td>\n",
       "      <td>nhbgvfrtd 56gyub</td>\n",
       "      <td>nhbgvfrtd 56gyub</td>\n",
       "    </tr>\n",
       "    <tr>\n",
       "      <th>sc_w</th>\n",
       "      <td>4.0</td>\n",
       "      <td>5.0</td>\n",
       "      <td>4.0</td>\n",
       "      <td>7.0</td>\n",
       "      <td>8.0</td>\n",
       "      <td>5285988458456.0</td>\n",
       "      <td>5.0</td>\n",
       "      <td>2.0</td>\n",
       "      <td>nhbgvfrtd 56gyub</td>\n",
       "      <td>0.0</td>\n",
       "    </tr>\n",
       "    <tr>\n",
       "      <th>m_dep</th>\n",
       "      <td>0.5</td>\n",
       "      <td>0.4</td>\n",
       "      <td>0.2</td>\n",
       "      <td>??????</td>\n",
       "      <td>5285988458456.0</td>\n",
       "      <td>0.4</td>\n",
       "      <td>0.3</td>\n",
       "      <td>0.7</td>\n",
       "      <td>nhbgvfrtd 56gyub</td>\n",
       "      <td>0.1</td>\n",
       "    </tr>\n",
       "    <tr>\n",
       "      <th>touch_screen</th>\n",
       "      <td>??????</td>\n",
       "      <td>0.0</td>\n",
       "      <td>-948961565145.0</td>\n",
       "      <td>0.0</td>\n",
       "      <td>0.0</td>\n",
       "      <td>0.0</td>\n",
       "      <td>1.0</td>\n",
       "      <td>1.0</td>\n",
       "      <td>1.0</td>\n",
       "      <td>0.0</td>\n",
       "    </tr>\n",
       "    <tr>\n",
       "      <th>fc</th>\n",
       "      <td>6.0</td>\n",
       "      <td>2.0</td>\n",
       "      <td>0.0</td>\n",
       "      <td>3.0</td>\n",
       "      <td>2.0</td>\n",
       "      <td>0.0</td>\n",
       "      <td>1.0</td>\n",
       "      <td>6.0</td>\n",
       "      <td>4.0</td>\n",
       "      <td>0.0</td>\n",
       "    </tr>\n",
       "    <tr>\n",
       "      <th>four_g</th>\n",
       "      <td>0.0</td>\n",
       "      <td>0.0</td>\n",
       "      <td>-948961565145.0</td>\n",
       "      <td>0.0</td>\n",
       "      <td>0.0</td>\n",
       "      <td>1.0</td>\n",
       "      <td>1.0</td>\n",
       "      <td>1.0</td>\n",
       "      <td>nhbgvfrtd 56gyub</td>\n",
       "      <td>nhbgvfrtd 56gyub</td>\n",
       "    </tr>\n",
       "    <tr>\n",
       "      <th>hgv</th>\n",
       "      <td>18.0</td>\n",
       "      <td>18.0</td>\n",
       "      <td>12.0</td>\n",
       "      <td>20.0</td>\n",
       "      <td>7.0</td>\n",
       "      <td>14.0</td>\n",
       "      <td>12.0</td>\n",
       "      <td>13.0</td>\n",
       "      <td>nhbgvfrtd 56gyub</td>\n",
       "      <td>13.0</td>\n",
       "    </tr>\n",
       "    <tr>\n",
       "      <th>price_range</th>\n",
       "      <td>3.0</td>\n",
       "      <td>2.0</td>\n",
       "      <td>-948961565145.0</td>\n",
       "      <td>3.0</td>\n",
       "      <td>5285988458456.0</td>\n",
       "      <td>3.0</td>\n",
       "      <td>1.0</td>\n",
       "      <td>0.0</td>\n",
       "      <td>0.0</td>\n",
       "      <td>2.0</td>\n",
       "    </tr>\n",
       "    <tr>\n",
       "      <th>blue</th>\n",
       "      <td>1.0</td>\n",
       "      <td>1.0</td>\n",
       "      <td>1.0</td>\n",
       "      <td>0.0</td>\n",
       "      <td>5285988458456.0</td>\n",
       "      <td>0.0</td>\n",
       "      <td>1.0</td>\n",
       "      <td>NaN</td>\n",
       "      <td>1.0</td>\n",
       "      <td>0.0</td>\n",
       "    </tr>\n",
       "    <tr>\n",
       "      <th>n_cores</th>\n",
       "      <td>??????</td>\n",
       "      <td>NaN</td>\n",
       "      <td>-948961565145.0</td>\n",
       "      <td>6.0</td>\n",
       "      <td>5285988458456.0</td>\n",
       "      <td>1.0</td>\n",
       "      <td>7.0</td>\n",
       "      <td>8.0</td>\n",
       "      <td>7.0</td>\n",
       "      <td>3.0</td>\n",
       "    </tr>\n",
       "    <tr>\n",
       "      <th>wifi</th>\n",
       "      <td>1.0</td>\n",
       "      <td>1.0</td>\n",
       "      <td>0.0</td>\n",
       "      <td>1.0</td>\n",
       "      <td>0.0</td>\n",
       "      <td>1.0</td>\n",
       "      <td>1.0</td>\n",
       "      <td>0.0</td>\n",
       "      <td>0.0</td>\n",
       "      <td>1.0</td>\n",
       "    </tr>\n",
       "    <tr>\n",
       "      <th>dual_sim</th>\n",
       "      <td>1.0</td>\n",
       "      <td>1.0</td>\n",
       "      <td>0.0</td>\n",
       "      <td>0.0</td>\n",
       "      <td>0.0</td>\n",
       "      <td>0.0</td>\n",
       "      <td>0.0</td>\n",
       "      <td>0.0</td>\n",
       "      <td>0.0</td>\n",
       "      <td>nhbgvfrtd 56gyub</td>\n",
       "    </tr>\n",
       "    <tr>\n",
       "      <th>ram</th>\n",
       "      <td>3856.0</td>\n",
       "      <td>5285988458456.0</td>\n",
       "      <td>3011.0</td>\n",
       "      <td>3322.0</td>\n",
       "      <td>2676.0</td>\n",
       "      <td>2775.0</td>\n",
       "      <td>2029.0</td>\n",
       "      <td>NaN</td>\n",
       "      <td>739.0</td>\n",
       "      <td>2571.0</td>\n",
       "    </tr>\n",
       "    <tr>\n",
       "      <th>werf</th>\n",
       "      <td>9156615</td>\n",
       "      <td>9156615</td>\n",
       "      <td>9156615</td>\n",
       "      <td>9156615</td>\n",
       "      <td>9156615</td>\n",
       "      <td>9156615</td>\n",
       "      <td>9156615</td>\n",
       "      <td>9156615</td>\n",
       "      <td>9156615</td>\n",
       "      <td>9156615</td>\n",
       "    </tr>\n",
       "    <tr>\n",
       "      <th>int_memory</th>\n",
       "      <td>34.0</td>\n",
       "      <td>5285988458456.0</td>\n",
       "      <td>44.0</td>\n",
       "      <td>26.0</td>\n",
       "      <td>5285988458456.0</td>\n",
       "      <td>57.0</td>\n",
       "      <td>55.0</td>\n",
       "      <td>41.0</td>\n",
       "      <td>19.0</td>\n",
       "      <td>nhbgvfrtd 56gyub</td>\n",
       "    </tr>\n",
       "    <tr>\n",
       "      <th>px_height</th>\n",
       "      <td>553.0</td>\n",
       "      <td>300.0</td>\n",
       "      <td>204.0</td>\n",
       "      <td>1064.0</td>\n",
       "      <td>330.0</td>\n",
       "      <td>781.0</td>\n",
       "      <td>1041.0</td>\n",
       "      <td>741.0</td>\n",
       "      <td>344.0</td>\n",
       "      <td>213.0</td>\n",
       "    </tr>\n",
       "    <tr>\n",
       "      <th>clock_speed</th>\n",
       "      <td>1.8</td>\n",
       "      <td>0.5</td>\n",
       "      <td>2.3</td>\n",
       "      <td>1.2</td>\n",
       "      <td>0.6</td>\n",
       "      <td>2.8</td>\n",
       "      <td>2.0</td>\n",
       "      <td>NaN</td>\n",
       "      <td>1.4</td>\n",
       "      <td>1.8</td>\n",
       "    </tr>\n",
       "  </tbody>\n",
       "</table>\n",
       "</div>"
      ],
      "text/plain": [
       "                 53047            63001            23658    67425  \\\n",
       "Unnamed: 0       53047            63001            23658    67425   \n",
       "index              616              349             1478     1674   \n",
       "talk_time         18.0             18.0             12.0     20.0   \n",
       "battery_power   1369.0            635.0  -948961565145.0   1945.0   \n",
       "pc                 7.0              4.0             10.0      5.0   \n",
       "three_g            0.0              0.0              1.0      0.0   \n",
       "mobile_wt        162.0              NaN  -948961565145.0    112.0   \n",
       "px_width         727.0           1059.0           1021.0   1540.0   \n",
       "sc_h              18.0             12.0  -948961565145.0   ??????   \n",
       "sc_w               4.0              5.0              4.0      7.0   \n",
       "m_dep              0.5              0.4              0.2   ??????   \n",
       "touch_screen    ??????              0.0  -948961565145.0      0.0   \n",
       "fc                 6.0              2.0              0.0      3.0   \n",
       "four_g             0.0              0.0  -948961565145.0      0.0   \n",
       "hgv               18.0             18.0             12.0     20.0   \n",
       "price_range        3.0              2.0  -948961565145.0      3.0   \n",
       "blue               1.0              1.0              1.0      0.0   \n",
       "n_cores         ??????              NaN  -948961565145.0      6.0   \n",
       "wifi               1.0              1.0              0.0      1.0   \n",
       "dual_sim           1.0              1.0              0.0      0.0   \n",
       "ram             3856.0  5285988458456.0           3011.0   3322.0   \n",
       "werf           9156615          9156615          9156615  9156615   \n",
       "int_memory        34.0  5285988458456.0             44.0     26.0   \n",
       "px_height        553.0            300.0            204.0   1064.0   \n",
       "clock_speed        1.8              0.5              2.3      1.2   \n",
       "\n",
       "                         64537            24233    15447    22982  \\\n",
       "Unnamed: 0               64537            24233    15447    22982   \n",
       "index                     1090              432     2455      313   \n",
       "talk_time                  7.0             14.0     12.0     13.0   \n",
       "battery_power           1245.0           1421.0    537.0    645.0   \n",
       "pc                         3.0  5285988458456.0      2.0     17.0   \n",
       "three_g                    1.0              1.0      1.0      1.0   \n",
       "mobile_wt                105.0            165.0    103.0    184.0   \n",
       "px_width                1434.0           1657.0   1430.0      NaN   \n",
       "sc_h           5285988458456.0  5285988458456.0     10.0      NaN   \n",
       "sc_w                       8.0  5285988458456.0      5.0      2.0   \n",
       "m_dep          5285988458456.0              0.4      0.3      0.7   \n",
       "touch_screen               0.0              0.0      1.0      1.0   \n",
       "fc                         2.0              0.0      1.0      6.0   \n",
       "four_g                     0.0              1.0      1.0      1.0   \n",
       "hgv                        7.0             14.0     12.0     13.0   \n",
       "price_range    5285988458456.0              3.0      1.0      0.0   \n",
       "blue           5285988458456.0              0.0      1.0      NaN   \n",
       "n_cores        5285988458456.0              1.0      7.0      8.0   \n",
       "wifi                       0.0              1.0      1.0      0.0   \n",
       "dual_sim                   0.0              0.0      0.0      0.0   \n",
       "ram                     2676.0           2775.0   2029.0      NaN   \n",
       "werf                   9156615          9156615  9156615  9156615   \n",
       "int_memory     5285988458456.0             57.0     55.0     41.0   \n",
       "px_height                330.0            781.0   1041.0    741.0   \n",
       "clock_speed                0.6              2.8      2.0      NaN   \n",
       "\n",
       "                          24624             19688  \n",
       "Unnamed: 0                24624             19688  \n",
       "index                      1859               210  \n",
       "talk_time      nhbgvfrtd 56gyub              13.0  \n",
       "battery_power             649.0            1395.0  \n",
       "pc                         12.0               1.0  \n",
       "three_g        nhbgvfrtd 56gyub               1.0  \n",
       "mobile_wt      nhbgvfrtd 56gyub             111.0  \n",
       "px_width       nhbgvfrtd 56gyub             705.0  \n",
       "sc_h           nhbgvfrtd 56gyub  nhbgvfrtd 56gyub  \n",
       "sc_w           nhbgvfrtd 56gyub               0.0  \n",
       "m_dep          nhbgvfrtd 56gyub               0.1  \n",
       "touch_screen                1.0               0.0  \n",
       "fc                          4.0               0.0  \n",
       "four_g         nhbgvfrtd 56gyub  nhbgvfrtd 56gyub  \n",
       "hgv            nhbgvfrtd 56gyub              13.0  \n",
       "price_range                 0.0               2.0  \n",
       "blue                        1.0               0.0  \n",
       "n_cores                     7.0               3.0  \n",
       "wifi                        0.0               1.0  \n",
       "dual_sim                    0.0  nhbgvfrtd 56gyub  \n",
       "ram                       739.0            2571.0  \n",
       "werf                    9156615           9156615  \n",
       "int_memory                 19.0  nhbgvfrtd 56gyub  \n",
       "px_height                 344.0             213.0  \n",
       "clock_speed                 1.4               1.8  "
      ]
     },
     "execution_count": 6,
     "metadata": {},
     "output_type": "execute_result"
    }
   ],
   "source": [
    "raw_data.sample(10).T\n"
   ]
  },
  {
   "cell_type": "markdown",
   "metadata": {},
   "source": [
    "Tipos de datos \n",
    "\n",
    "|Nombre Variable| Tipo | Descripción | \n",
    "|--|--|--|\n",
    "| battery_power | Numérica | Total energy a battery can store in one time measured in mAh |\n",
    "| blue | Categorico (binomial) | Has bluetooth or not | \n",
    "| clock_speed | Numérico | speed at which microprocessor executes instructions |\n",
    "| dual_sim | Categórico (binomial) | Has dual sim support or not |\n",
    "| fc | Numérico | Front Camera mega pixels |\n",
    "| four_g | Categórico (binomial) | Has 4G or not |\n",
    "| int_memory | Numérico | Internal Memory in Gigabytes |\n",
    "| m_dep | Numérico | Mobile Depth in cm |\n",
    "| n_cores | Numérico | number of cores of processor |\n",
    "| pc | Numérico | Primary camera mega pixels | \n",
    "| px_height | Numérico | Pixel Resolution Height |\n",
    "| px_width | Numérico | Pixel Resolution Width |\n",
    "| ram | Numérico | Random Access Memory in Megabytes |\n",
    "| sc_h | Numérico | Screen Height of mobile in cm |\n",
    "| sc_w | Numérico | Screen Width of mobile in cm |\n",
    "| talk_time | Numérico | longest time that a single battery charge will last when you are |\n",
    "| three_g | Categórico (binomial) | Has 3G or not |\n",
    "| touch_screen | Categórico (binomial) | Has touch screen or not |\n",
    "| wifi | Categórico (binomial) | Has wifi or not |\n",
    "| price_range | Numérico | Rango de precios se dan por las categorias [0,1,2,3] |\n",
    "\n",
    "\n",
    "\n",
    "\n",
    "\n",
    "\n",
    "\n",
    "\n",
    "\n",
    "\n",
    "\n"
   ]
  },
  {
   "cell_type": "markdown",
   "metadata": {},
   "source": [
    "Todas las variables que no estén en la información del dataset serán eliminadas, excepto la clase la cual es 'price_range'"
   ]
  },
  {
   "cell_type": "code",
   "execution_count": 7,
   "metadata": {},
   "outputs": [
    {
     "data": {
      "text/plain": [
       "{'Unnamed: 0', 'hgv', 'index', 'price_range', 'werf'}"
      ]
     },
     "execution_count": 7,
     "metadata": {},
     "output_type": "execute_result"
    }
   ],
   "source": [
    "columns_info = {\"battery_power\",\n",
    "\"blue\",\n",
    "\"clock_speed\",\n",
    "\"dual_sim\",\n",
    "\"fc\",\n",
    "\"four_g\",\n",
    "\"int_memory\",\n",
    "\"m_dep\",\n",
    "\"mobile_wt\",\n",
    "\"n_cores\",\n",
    "\"pc\",\n",
    "\"px_height\",\n",
    "\"px_width\",\n",
    "\"ram\",\n",
    "\"sc_h\",\n",
    "\"sc_w\",\n",
    "\"talk_time\",\n",
    "\"three_g\",\n",
    "\"touch_screen\",\n",
    "\"wifi\"}\n",
    "\n",
    "columns_data = set(raw_data.T.index)\n",
    "\n",
    "columns_data - columns_info"
   ]
  },
  {
   "cell_type": "code",
   "execution_count": 8,
   "metadata": {},
   "outputs": [
    {
     "name": "stdout",
     "output_type": "stream",
     "text": [
      "  int_memory = 3.857467575879128 %\n",
      "  wifi = 3.636849846236128 %\n",
      "  pc = 3.543254445781521 %\n",
      "  sc_w = 3.576681374515309 %\n",
      "  px_height = 3.857467575879128 %\n",
      "  battery_power = 3.77055756117128 %\n",
      "  clock_speed = 3.6702767749699152 %\n",
      "  n_cores = 3.710389089450461 %\n",
      "  fc = 3.997860676561037 %\n",
      "  touch_screen = 3.556625217275037 %\n",
      "  blue = 4.01791683380131 %\n",
      "  talk_time = 3.743816018184249 %\n",
      "  index = 0.0 %\n",
      "  m_dep = 3.790613718411552 %\n",
      "  mobile_wt = 3.663591389223158 %\n",
      "  three_g = 3.636849846236128 %\n",
      "  werf = 0.0 %\n",
      "  price_range = 4.579489236528947 %\n",
      "  dual_sim = 3.536569060034764 %\n",
      "  px_width = 3.77055756117128 %\n",
      "  hgv = 3.743816018184249 %\n",
      "  Unnamed: 0 = 0.0 %\n",
      "  ram = 4.01791683380131 %\n",
      "  sc_h = 3.870838347372643 %\n",
      "  four_g = 3.96443374782725 %\n"
     ]
    },
    {
     "data": {
      "text/plain": [
       "<AxesSubplot:title={'center':'Conteo de nulos por variable '}, xlabel='column'>"
      ]
     },
     "execution_count": 8,
     "metadata": {},
     "output_type": "execute_result"
    },
    {
     "data": {
      "image/png": "[encoded data removed]",
      "text/plain": [
       "<Figure size 432x288 with 1 Axes>"
      ]
     },
     "metadata": {
      "needs_background": "light"
     },
     "output_type": "display_data"
    }
   ],
   "source": [
    "\n",
    "null_percentage = {}\n",
    "null_percentage['column'] = list(columns_data)\n",
    "null_percentage_ = []\n",
    "for variable_name in list(columns_data):\n",
    "    print(f\"  {variable_name} = {(raw_data[variable_name].isnull().sum()/len(raw_data))*100} %\")\n",
    "    null_percentage_.append(raw_data[variable_name].isnull().sum())\n",
    "\n",
    "null_percentage['count'] = null_percentage_\n",
    "null_data_frame = pd.DataFrame(null_percentage)\n",
    "null_data_frame.plot.bar(x='column', y='count', title=\"Conteo de nulos por variable \")"
   ]
  },
  {
   "cell_type": "markdown",
   "metadata": {},
   "source": [
    "# Limpieza de calidad de datos general\n",
    "- Filas con valores exactamente iguales (duplicados)\n",
    "- Columnas duplicadas\n",
    "- Columnas con valores constantes o sin informacion"
   ]
  },
  {
   "cell_type": "markdown",
   "metadata": {},
   "source": [
    "Primero se eliminan las filas que no van a ser utilizadas "
   ]
  },
  {
   "cell_type": "code",
   "execution_count": 9,
   "metadata": {},
   "outputs": [],
   "source": [
    "not_info_columns = columns_data - columns_info\n",
    "not_info_columns = not_info_columns - {'price_range'}"
   ]
  },
  {
   "cell_type": "code",
   "execution_count": 10,
   "metadata": {},
   "outputs": [],
   "source": [
    "raw_data = raw_data.drop(list(not_info_columns), axis=1)"
   ]
  },
  {
   "cell_type": "code",
   "execution_count": 11,
   "metadata": {},
   "outputs": [
    {
     "data": {
      "text/html": [
       "<div>\n",
       "<style scoped>\n",
       "    .dataframe tbody tr th:only-of-type {\n",
       "        vertical-align: middle;\n",
       "    }\n",
       "\n",
       "    .dataframe tbody tr th {\n",
       "        vertical-align: top;\n",
       "    }\n",
       "\n",
       "    .dataframe thead th {\n",
       "        text-align: right;\n",
       "    }\n",
       "</style>\n",
       "<table border=\"1\" class=\"dataframe\">\n",
       "  <thead>\n",
       "    <tr style=\"text-align: right;\">\n",
       "      <th></th>\n",
       "      <th>talk_time</th>\n",
       "      <th>battery_power</th>\n",
       "      <th>pc</th>\n",
       "      <th>three_g</th>\n",
       "      <th>mobile_wt</th>\n",
       "      <th>px_width</th>\n",
       "      <th>sc_h</th>\n",
       "      <th>sc_w</th>\n",
       "      <th>m_dep</th>\n",
       "      <th>touch_screen</th>\n",
       "      <th>...</th>\n",
       "      <th>four_g</th>\n",
       "      <th>price_range</th>\n",
       "      <th>blue</th>\n",
       "      <th>n_cores</th>\n",
       "      <th>wifi</th>\n",
       "      <th>dual_sim</th>\n",
       "      <th>ram</th>\n",
       "      <th>int_memory</th>\n",
       "      <th>px_height</th>\n",
       "      <th>clock_speed</th>\n",
       "    </tr>\n",
       "  </thead>\n",
       "  <tbody>\n",
       "    <tr>\n",
       "      <th>0</th>\n",
       "      <td>11.0</td>\n",
       "      <td>911.0</td>\n",
       "      <td>4.0</td>\n",
       "      <td>0.0</td>\n",
       "      <td>199.0</td>\n",
       "      <td>1692.0</td>\n",
       "      <td>16.0</td>\n",
       "      <td>3.0</td>\n",
       "      <td>0.7</td>\n",
       "      <td>1.0</td>\n",
       "      <td>...</td>\n",
       "      <td>0.0</td>\n",
       "      <td>3.0</td>\n",
       "      <td>0.0</td>\n",
       "      <td>4.0</td>\n",
       "      <td>0.0</td>\n",
       "      <td>1.0</td>\n",
       "      <td>2933.0</td>\n",
       "      <td>14.0</td>\n",
       "      <td>1563.0</td>\n",
       "      <td>1.4</td>\n",
       "    </tr>\n",
       "    <tr>\n",
       "      <th>1</th>\n",
       "      <td>9.0</td>\n",
       "      <td>1284.0</td>\n",
       "      <td>14.0</td>\n",
       "      <td>0.0</td>\n",
       "      <td>155.0</td>\n",
       "      <td>-948961565145.0</td>\n",
       "      <td>16.0</td>\n",
       "      <td>2.0</td>\n",
       "      <td>-948961565145.0</td>\n",
       "      <td>1.0</td>\n",
       "      <td>...</td>\n",
       "      <td>0.0</td>\n",
       "      <td>1.0</td>\n",
       "      <td>1.0</td>\n",
       "      <td>2.0</td>\n",
       "      <td>1.0</td>\n",
       "      <td>1.0</td>\n",
       "      <td>2197.0</td>\n",
       "      <td>10.0</td>\n",
       "      <td>160.0</td>\n",
       "      <td>2.8</td>\n",
       "    </tr>\n",
       "    <tr>\n",
       "      <th>2</th>\n",
       "      <td>3.0</td>\n",
       "      <td>1183.0</td>\n",
       "      <td>nhbgvfrtd 56gyub</td>\n",
       "      <td>1.0</td>\n",
       "      <td>120.0</td>\n",
       "      <td>nhbgvfrtd 56gyub</td>\n",
       "      <td>nhbgvfrtd 56gyub</td>\n",
       "      <td>3.0</td>\n",
       "      <td>0.1</td>\n",
       "      <td>0.0</td>\n",
       "      <td>...</td>\n",
       "      <td>1.0</td>\n",
       "      <td>0.0</td>\n",
       "      <td>1.0</td>\n",
       "      <td>8.0</td>\n",
       "      <td>0.0</td>\n",
       "      <td>1.0</td>\n",
       "      <td>nhbgvfrtd 56gyub</td>\n",
       "      <td>nhbgvfrtd 56gyub</td>\n",
       "      <td>268.0</td>\n",
       "      <td>0.5</td>\n",
       "    </tr>\n",
       "    <tr>\n",
       "      <th>3</th>\n",
       "      <td>3.0</td>\n",
       "      <td>904.0</td>\n",
       "      <td>9.0</td>\n",
       "      <td>1.0</td>\n",
       "      <td>102.0</td>\n",
       "      <td>NaN</td>\n",
       "      <td>7.0</td>\n",
       "      <td>0.0</td>\n",
       "      <td>0.2</td>\n",
       "      <td>0.0</td>\n",
       "      <td>...</td>\n",
       "      <td>1.0</td>\n",
       "      <td>1.0</td>\n",
       "      <td>NaN</td>\n",
       "      <td>8.0</td>\n",
       "      <td>1.0</td>\n",
       "      <td>1.0</td>\n",
       "      <td>1846.0</td>\n",
       "      <td>14.0</td>\n",
       "      <td>56.0</td>\n",
       "      <td>1.6</td>\n",
       "    </tr>\n",
       "    <tr>\n",
       "      <th>4</th>\n",
       "      <td>-948961565145.0</td>\n",
       "      <td>1893.0</td>\n",
       "      <td>11.0</td>\n",
       "      <td>0.0</td>\n",
       "      <td>134.0</td>\n",
       "      <td>-948961565145.0</td>\n",
       "      <td>-948961565145.0</td>\n",
       "      <td>3.0</td>\n",
       "      <td>0.2</td>\n",
       "      <td>1.0</td>\n",
       "      <td>...</td>\n",
       "      <td>0.0</td>\n",
       "      <td>3.0</td>\n",
       "      <td>1.0</td>\n",
       "      <td>2.0</td>\n",
       "      <td>1.0</td>\n",
       "      <td>1.0</td>\n",
       "      <td>3822.0</td>\n",
       "      <td>63.0</td>\n",
       "      <td>-948961565145.0</td>\n",
       "      <td>2.1</td>\n",
       "    </tr>\n",
       "    <tr>\n",
       "      <th>...</th>\n",
       "      <td>...</td>\n",
       "      <td>...</td>\n",
       "      <td>...</td>\n",
       "      <td>...</td>\n",
       "      <td>...</td>\n",
       "      <td>...</td>\n",
       "      <td>...</td>\n",
       "      <td>...</td>\n",
       "      <td>...</td>\n",
       "      <td>...</td>\n",
       "      <td>...</td>\n",
       "      <td>...</td>\n",
       "      <td>...</td>\n",
       "      <td>...</td>\n",
       "      <td>...</td>\n",
       "      <td>...</td>\n",
       "      <td>...</td>\n",
       "      <td>...</td>\n",
       "      <td>...</td>\n",
       "      <td>...</td>\n",
       "      <td>...</td>\n",
       "    </tr>\n",
       "    <tr>\n",
       "      <th>74785</th>\n",
       "      <td>16.0</td>\n",
       "      <td>1905.0</td>\n",
       "      <td>20.0</td>\n",
       "      <td>1.0</td>\n",
       "      <td>119.0</td>\n",
       "      <td>1542.0</td>\n",
       "      <td>13.0</td>\n",
       "      <td>4.0</td>\n",
       "      <td>0.4</td>\n",
       "      <td>NaN</td>\n",
       "      <td>...</td>\n",
       "      <td>1.0</td>\n",
       "      <td>1.0</td>\n",
       "      <td>0.0</td>\n",
       "      <td>NaN</td>\n",
       "      <td>NaN</td>\n",
       "      <td>1.0</td>\n",
       "      <td>1287.0</td>\n",
       "      <td>36.0</td>\n",
       "      <td>825.0</td>\n",
       "      <td>0.6</td>\n",
       "    </tr>\n",
       "    <tr>\n",
       "      <th>74786</th>\n",
       "      <td>18.0</td>\n",
       "      <td>1544.0</td>\n",
       "      <td>20.0</td>\n",
       "      <td>1.0</td>\n",
       "      <td>nhbgvfrtd 56gyub</td>\n",
       "      <td>857.0</td>\n",
       "      <td>8.0</td>\n",
       "      <td>7.0</td>\n",
       "      <td>nhbgvfrtd 56gyub</td>\n",
       "      <td>1.0</td>\n",
       "      <td>...</td>\n",
       "      <td>nhbgvfrtd 56gyub</td>\n",
       "      <td>1.0</td>\n",
       "      <td>nhbgvfrtd 56gyub</td>\n",
       "      <td>8.0</td>\n",
       "      <td>0.0</td>\n",
       "      <td>0.0</td>\n",
       "      <td>1300.0</td>\n",
       "      <td>45.0</td>\n",
       "      <td>236.0</td>\n",
       "      <td>2.3</td>\n",
       "    </tr>\n",
       "    <tr>\n",
       "      <th>74787</th>\n",
       "      <td>18.0</td>\n",
       "      <td>-948961565145.0</td>\n",
       "      <td>6.0</td>\n",
       "      <td>1.0</td>\n",
       "      <td>81.0</td>\n",
       "      <td>1524.0</td>\n",
       "      <td>16.0</td>\n",
       "      <td>3.0</td>\n",
       "      <td>0.1</td>\n",
       "      <td>1.0</td>\n",
       "      <td>...</td>\n",
       "      <td>1.0</td>\n",
       "      <td>1.0</td>\n",
       "      <td>1.0</td>\n",
       "      <td>6.0</td>\n",
       "      <td>1.0</td>\n",
       "      <td>0.0</td>\n",
       "      <td>1905.0</td>\n",
       "      <td>10.0</td>\n",
       "      <td>113.0</td>\n",
       "      <td>0.5</td>\n",
       "    </tr>\n",
       "    <tr>\n",
       "      <th>74788</th>\n",
       "      <td>NaN</td>\n",
       "      <td>1625.0</td>\n",
       "      <td>17.0</td>\n",
       "      <td>1.0</td>\n",
       "      <td>107.0</td>\n",
       "      <td>1219.0</td>\n",
       "      <td>16.0</td>\n",
       "      <td>3.0</td>\n",
       "      <td>0.1</td>\n",
       "      <td>0.0</td>\n",
       "      <td>...</td>\n",
       "      <td>1.0</td>\n",
       "      <td>NaN</td>\n",
       "      <td>1.0</td>\n",
       "      <td>8.0</td>\n",
       "      <td>0.0</td>\n",
       "      <td>1.0</td>\n",
       "      <td>670.0</td>\n",
       "      <td>50.0</td>\n",
       "      <td>8.0</td>\n",
       "      <td>0.5</td>\n",
       "    </tr>\n",
       "    <tr>\n",
       "      <th>74789</th>\n",
       "      <td>9.0</td>\n",
       "      <td>932.0</td>\n",
       "      <td>2.0</td>\n",
       "      <td>1.0</td>\n",
       "      <td>nhbgvfrtd 56gyub</td>\n",
       "      <td>1224.0</td>\n",
       "      <td>8.0</td>\n",
       "      <td>nhbgvfrtd 56gyub</td>\n",
       "      <td>0.7</td>\n",
       "      <td>1.0</td>\n",
       "      <td>...</td>\n",
       "      <td>0.0</td>\n",
       "      <td>3.0</td>\n",
       "      <td>0.0</td>\n",
       "      <td>nhbgvfrtd 56gyub</td>\n",
       "      <td>1.0</td>\n",
       "      <td>0.0</td>\n",
       "      <td>3817.0</td>\n",
       "      <td>64.0</td>\n",
       "      <td>1176.0</td>\n",
       "      <td>1.3</td>\n",
       "    </tr>\n",
       "  </tbody>\n",
       "</table>\n",
       "<p>74790 rows × 21 columns</p>\n",
       "</div>"
      ],
      "text/plain": [
       "             talk_time    battery_power                pc three_g  \\\n",
       "0                 11.0            911.0               4.0     0.0   \n",
       "1                  9.0           1284.0              14.0     0.0   \n",
       "2                  3.0           1183.0  nhbgvfrtd 56gyub     1.0   \n",
       "3                  3.0            904.0               9.0     1.0   \n",
       "4      -948961565145.0           1893.0              11.0     0.0   \n",
       "...                ...              ...               ...     ...   \n",
       "74785             16.0           1905.0              20.0     1.0   \n",
       "74786             18.0           1544.0              20.0     1.0   \n",
       "74787             18.0  -948961565145.0               6.0     1.0   \n",
       "74788              NaN           1625.0              17.0     1.0   \n",
       "74789              9.0            932.0               2.0     1.0   \n",
       "\n",
       "              mobile_wt          px_width              sc_h              sc_w  \\\n",
       "0                 199.0            1692.0              16.0               3.0   \n",
       "1                 155.0   -948961565145.0              16.0               2.0   \n",
       "2                 120.0  nhbgvfrtd 56gyub  nhbgvfrtd 56gyub               3.0   \n",
       "3                 102.0               NaN               7.0               0.0   \n",
       "4                 134.0   -948961565145.0   -948961565145.0               3.0   \n",
       "...                 ...               ...               ...               ...   \n",
       "74785             119.0            1542.0              13.0               4.0   \n",
       "74786  nhbgvfrtd 56gyub             857.0               8.0               7.0   \n",
       "74787              81.0            1524.0              16.0               3.0   \n",
       "74788             107.0            1219.0              16.0               3.0   \n",
       "74789  nhbgvfrtd 56gyub            1224.0               8.0  nhbgvfrtd 56gyub   \n",
       "\n",
       "                  m_dep touch_screen  ...            four_g price_range  \\\n",
       "0                   0.7          1.0  ...               0.0         3.0   \n",
       "1       -948961565145.0          1.0  ...               0.0         1.0   \n",
       "2                   0.1          0.0  ...               1.0         0.0   \n",
       "3                   0.2          0.0  ...               1.0         1.0   \n",
       "4                   0.2          1.0  ...               0.0         3.0   \n",
       "...                 ...          ...  ...               ...         ...   \n",
       "74785               0.4          NaN  ...               1.0         1.0   \n",
       "74786  nhbgvfrtd 56gyub          1.0  ...  nhbgvfrtd 56gyub         1.0   \n",
       "74787               0.1          1.0  ...               1.0         1.0   \n",
       "74788               0.1          0.0  ...               1.0         NaN   \n",
       "74789               0.7          1.0  ...               0.0         3.0   \n",
       "\n",
       "                   blue           n_cores wifi dual_sim               ram  \\\n",
       "0                   0.0               4.0  0.0      1.0            2933.0   \n",
       "1                   1.0               2.0  1.0      1.0            2197.0   \n",
       "2                   1.0               8.0  0.0      1.0  nhbgvfrtd 56gyub   \n",
       "3                   NaN               8.0  1.0      1.0            1846.0   \n",
       "4                   1.0               2.0  1.0      1.0            3822.0   \n",
       "...                 ...               ...  ...      ...               ...   \n",
       "74785               0.0               NaN  NaN      1.0            1287.0   \n",
       "74786  nhbgvfrtd 56gyub               8.0  0.0      0.0            1300.0   \n",
       "74787               1.0               6.0  1.0      0.0            1905.0   \n",
       "74788               1.0               8.0  0.0      1.0             670.0   \n",
       "74789               0.0  nhbgvfrtd 56gyub  1.0      0.0            3817.0   \n",
       "\n",
       "             int_memory        px_height clock_speed  \n",
       "0                  14.0           1563.0         1.4  \n",
       "1                  10.0            160.0         2.8  \n",
       "2      nhbgvfrtd 56gyub            268.0         0.5  \n",
       "3                  14.0             56.0         1.6  \n",
       "4                  63.0  -948961565145.0         2.1  \n",
       "...                 ...              ...         ...  \n",
       "74785              36.0            825.0         0.6  \n",
       "74786              45.0            236.0         2.3  \n",
       "74787              10.0            113.0         0.5  \n",
       "74788              50.0              8.0         0.5  \n",
       "74789              64.0           1176.0         1.3  \n",
       "\n",
       "[74790 rows x 21 columns]"
      ]
     },
     "execution_count": 11,
     "metadata": {},
     "output_type": "execute_result"
    }
   ],
   "source": [
    "raw_data"
   ]
  },
  {
   "cell_type": "markdown",
   "metadata": {},
   "source": [
    "Cómo se puede observar, las columnas seleccionadas por ahora tienen ciertos datos extraños repetidos en todas las columnas, como es el caso del valor \"nhbgvfrtd 56gyub\" el cual se repite en varias columnas. Para proceder a realizar la limpieza se deberá transformar correctamente el tipo de dato de cada variable.\t"
   ]
  },
  {
   "cell_type": "markdown",
   "metadata": {},
   "source": [
    "Para la variable talk_time, se identificaron los valores muy grandes y muy pequeños y datos no numéricos, se reemplazaron con nulos para proceder a eliminarlos una vez sea necesario"
   ]
  },
  {
   "cell_type": "code",
   "execution_count": 12,
   "metadata": {},
   "outputs": [
    {
     "data": {
      "text/plain": [
       "array(['11.0', '9.0', '3.0', '-948961565145.0', '6.0', 'nhbgvfrtd 56gyub',\n",
       "       '12.0', '8.0', '16.0', '20.0', '13.0', '5285988458456.0', '14.0',\n",
       "       '7.0', nan, '19.0', '10.0', '15.0', '4.0', '18.0', '??????',\n",
       "       '17.0', '5.0', '2.0'], dtype=object)"
      ]
     },
     "execution_count": 12,
     "metadata": {},
     "output_type": "execute_result"
    }
   ],
   "source": [
    "raw_data['talk_time'].unique()"
   ]
  },
  {
   "cell_type": "code",
   "execution_count": 13,
   "metadata": {},
   "outputs": [],
   "source": [
    "\n",
    "raw_data['talk_time'].replace('??????', np.nan, inplace=True)\n",
    "raw_data['talk_time'].replace('nhbgvfrtd 56gyub', np.nan, inplace=True)\n",
    "raw_data['talk_time'].replace('-948961565145.0', np.nan, inplace=True)\n",
    "raw_data['talk_time'].replace('5285988458456.0', np.nan, inplace=True)\n",
    "raw_data['talk_time'] = raw_data['talk_time'].astype('float')"
   ]
  },
  {
   "cell_type": "code",
   "execution_count": 14,
   "metadata": {},
   "outputs": [
    {
     "data": {
      "text/plain": [
       "array(['911.0', '1284.0', '1183.0', ..., '527.0', '1542.0', '846.0'],\n",
       "      dtype=object)"
      ]
     },
     "execution_count": 14,
     "metadata": {},
     "output_type": "execute_result"
    }
   ],
   "source": [
    "raw_data['battery_power'].unique()\n"
   ]
  },
  {
   "cell_type": "code",
   "execution_count": 15,
   "metadata": {},
   "outputs": [],
   "source": [
    "raw_data['battery_power'].replace('nhbgvfrtd 56gyub', np.nan, inplace=True)\n",
    "raw_data['battery_power'].replace('??????', np.nan, inplace=True)\n",
    "raw_data['battery_power'] = raw_data['battery_power'].astype('float')"
   ]
  },
  {
   "cell_type": "code",
   "execution_count": 16,
   "metadata": {},
   "outputs": [
    {
     "data": {
      "text/plain": [
       "array(['4.0', '14.0', 'nhbgvfrtd 56gyub', '9.0', '11.0', '20.0', '1.0',\n",
       "       '??????', '0.0', '16.0', '7.0', '5.0', '5285988458456.0', '10.0',\n",
       "       '8.0', '12.0', '6.0', '2.0', '13.0', '17.0', '19.0', '18.0',\n",
       "       '15.0', '-948961565145.0', nan, '3.0'], dtype=object)"
      ]
     },
     "execution_count": 16,
     "metadata": {},
     "output_type": "execute_result"
    }
   ],
   "source": [
    "raw_data['pc'].unique()"
   ]
  },
  {
   "cell_type": "code",
   "execution_count": 17,
   "metadata": {},
   "outputs": [],
   "source": [
    "raw_data['pc'].replace('nhbgvfrtd 56gyub', np.nan, inplace=True)\n",
    "raw_data['pc'].replace('??????', np.nan, inplace=True)\n",
    "raw_data['pc'].replace('5285988458456.0', np.nan, inplace=True)\n",
    "raw_data['pc'].replace('-948961565145.0', np.nan, inplace=True)\n",
    "raw_data['pc'] = raw_data['pc'].astype('float')"
   ]
  },
  {
   "cell_type": "code",
   "execution_count": 18,
   "metadata": {},
   "outputs": [
    {
     "data": {
      "text/plain": [
       "array(['0.0', '1.0', '??????', 'nhbgvfrtd 56gyub', nan, '-948961565145.0',\n",
       "       '5285988458456.0'], dtype=object)"
      ]
     },
     "execution_count": 18,
     "metadata": {},
     "output_type": "execute_result"
    }
   ],
   "source": [
    "raw_data['three_g'].unique()"
   ]
  },
  {
   "cell_type": "code",
   "execution_count": 19,
   "metadata": {},
   "outputs": [],
   "source": [
    "raw_data['three_g'].replace('nhbgvfrtd 56gyub', np.nan, inplace=True)\n",
    "raw_data['three_g'].replace('??????', np.nan, inplace=True)\n",
    "raw_data['three_g'].replace('5285988458456.0', np.nan, inplace=True)\n",
    "raw_data['three_g'].replace('-948961565145.0', np.nan, inplace=True)\n",
    "raw_data['three_g'] = raw_data['three_g'].astype('category')"
   ]
  },
  {
   "cell_type": "code",
   "execution_count": 20,
   "metadata": {},
   "outputs": [
    {
     "data": {
      "text/plain": [
       "array(['199.0', '155.0', '120.0', '102.0', '134.0', '88.0', '157.0',\n",
       "       '??????', '83.0', '97.0', '198.0', '196.0', '5285988458456.0',\n",
       "       '190.0', '181.0', '188.0', '81.0', '160.0', '195.0', nan, '89.0',\n",
       "       '172.0', '143.0', '130.0', '82.0', '129.0', '182.0', '176.0',\n",
       "       '92.0', '164.0', '112.0', '138.0', '137.0', '135.0', '103.0',\n",
       "       '85.0', '200.0', '166.0', '148.0', '147.0', '108.0', '144.0',\n",
       "       '104.0', '86.0', '101.0', '117.0', '152.0', '197.0', '187.0',\n",
       "       '189.0', '111.0', '116.0', '178.0', '122.0', 'nhbgvfrtd 56gyub',\n",
       "       '150.0', '153.0', '96.0', '105.0', '149.0', '154.0', '194.0',\n",
       "       '118.0', '115.0', '128.0', '161.0', '80.0', '170.0',\n",
       "       '-948961565145.0', '173.0', '123.0', '100.0', '106.0', '124.0',\n",
       "       '163.0', '126.0', '84.0', '184.0', '139.0', '114.0', '191.0',\n",
       "       '159.0', '109.0', '168.0', '107.0', '180.0', '145.0', '121.0',\n",
       "       '177.0', '127.0', '165.0', '151.0', '95.0', '146.0', '133.0',\n",
       "       '186.0', '192.0', '193.0', '141.0', '93.0', '185.0', '183.0',\n",
       "       '119.0', '167.0', '136.0', '175.0', '156.0', '125.0', '169.0',\n",
       "       '132.0', '87.0', '142.0', '113.0', '179.0', '162.0', '140.0',\n",
       "       '99.0', '94.0', '158.0', '174.0', '90.0', '110.0', '171.0', '91.0',\n",
       "       '98.0', '131.0'], dtype=object)"
      ]
     },
     "execution_count": 20,
     "metadata": {},
     "output_type": "execute_result"
    }
   ],
   "source": [
    "raw_data['mobile_wt'].unique()"
   ]
  },
  {
   "cell_type": "code",
   "execution_count": 21,
   "metadata": {},
   "outputs": [],
   "source": [
    "raw_data['mobile_wt'].replace('nhbgvfrtd 56gyub', np.nan, inplace=True)\n",
    "raw_data['mobile_wt'].replace('??????', np.nan, inplace=True)\n",
    "raw_data['mobile_wt'].replace('5285988458456.0', np.nan, inplace=True)\n",
    "raw_data['mobile_wt'].replace('-948961565145.0', np.nan, inplace=True)\n",
    "raw_data['mobile_wt'] = raw_data['mobile_wt'].astype('float')"
   ]
  },
  {
   "cell_type": "code",
   "execution_count": 22,
   "metadata": {},
   "outputs": [
    {
     "data": {
      "text/plain": [
       "array(['1692.0', '-948961565145.0', 'nhbgvfrtd 56gyub', ..., '529.0',\n",
       "       '1375.0', '1788.0'], dtype=object)"
      ]
     },
     "execution_count": 22,
     "metadata": {},
     "output_type": "execute_result"
    }
   ],
   "source": [
    "raw_data['px_width'].unique()"
   ]
  },
  {
   "cell_type": "code",
   "execution_count": 23,
   "metadata": {},
   "outputs": [],
   "source": [
    "raw_data['px_width'].replace('nhbgvfrtd 56gyub', np.nan, inplace=True)\n",
    "raw_data['px_width'].replace('??????', np.nan, inplace=True)\n",
    "raw_data['px_width'].replace('5285988458456.0', np.nan, inplace=True)\n",
    "raw_data['px_width'].replace('-948961565145.0', np.nan, inplace=True)\n",
    "raw_data['px_width'] = raw_data['px_width'].astype('float')"
   ]
  },
  {
   "cell_type": "code",
   "execution_count": 24,
   "metadata": {},
   "outputs": [
    {
     "data": {
      "text/plain": [
       "array(['16.0', 'nhbgvfrtd 56gyub', '7.0', '-948961565145.0', '17.0',\n",
       "       '11.0', '5.0', '12.0', nan, '19.0', '13.0', '5285988458456.0',\n",
       "       '??????', '8.0', '18.0', '6.0', '14.0', '15.0', '10.0', '9.0'],\n",
       "      dtype=object)"
      ]
     },
     "execution_count": 24,
     "metadata": {},
     "output_type": "execute_result"
    }
   ],
   "source": [
    "raw_data['sc_h'].unique()"
   ]
  },
  {
   "cell_type": "code",
   "execution_count": 25,
   "metadata": {},
   "outputs": [],
   "source": [
    "raw_data['sc_h'].replace('nhbgvfrtd 56gyub', np.nan, inplace=True)\n",
    "raw_data['sc_h'].replace('??????', np.nan, inplace=True)\n",
    "raw_data['sc_h'].replace('5285988458456.0', np.nan, inplace=True)\n",
    "raw_data['sc_h'].replace('-948961565145.0', np.nan, inplace=True)\n",
    "raw_data['sc_h'] = raw_data['sc_h'].astype('float')"
   ]
  },
  {
   "cell_type": "code",
   "execution_count": 26,
   "metadata": {},
   "outputs": [
    {
     "data": {
      "text/plain": [
       "array(['3.0', '2.0', '0.0', '7.0', '8.0', nan, '-948961565145.0', '10.0',\n",
       "       '4.0', '??????', '6.0', '5.0', '9.0', '15.0', '13.0',\n",
       "       '5285988458456.0', '1.0', '14.0', '11.0', 'nhbgvfrtd 56gyub',\n",
       "       '16.0', '17.0', '12.0', '18.0'], dtype=object)"
      ]
     },
     "execution_count": 26,
     "metadata": {},
     "output_type": "execute_result"
    }
   ],
   "source": [
    "raw_data['sc_w'].unique()"
   ]
  },
  {
   "cell_type": "code",
   "execution_count": 27,
   "metadata": {},
   "outputs": [],
   "source": [
    "raw_data['sc_w'].replace('nhbgvfrtd 56gyub', np.nan, inplace=True)\n",
    "raw_data['sc_w'].replace('??????', np.nan, inplace=True)\n",
    "raw_data['sc_w'].replace('5285988458456.0', np.nan, inplace=True)\n",
    "raw_data['sc_w'].replace('-948961565145.0', np.nan, inplace=True)\n",
    "raw_data['sc_w'] = raw_data['sc_w'].astype('float')"
   ]
  },
  {
   "cell_type": "code",
   "execution_count": 28,
   "metadata": {},
   "outputs": [
    {
     "data": {
      "text/plain": [
       "array(['0.7', '-948961565145.0', '0.1', '0.2', '0.3', 'nhbgvfrtd 56gyub',\n",
       "       '??????', '0.8', '0.5', nan, '0.6', '0.9', '5285988458456.0',\n",
       "       '1.0', '0.4'], dtype=object)"
      ]
     },
     "execution_count": 28,
     "metadata": {},
     "output_type": "execute_result"
    }
   ],
   "source": [
    "raw_data['m_dep'].unique()"
   ]
  },
  {
   "cell_type": "code",
   "execution_count": 29,
   "metadata": {},
   "outputs": [],
   "source": [
    "raw_data['m_dep'].replace('nhbgvfrtd 56gyub', np.nan, inplace=True)\n",
    "raw_data['m_dep'].replace('??????', np.nan, inplace=True)\n",
    "raw_data['m_dep'].replace('5285988458456.0', np.nan, inplace=True)\n",
    "raw_data['m_dep'].replace('-948961565145.0', np.nan, inplace=True)\n",
    "raw_data['m_dep'] = raw_data['m_dep'].astype('float')"
   ]
  },
  {
   "cell_type": "code",
   "execution_count": 30,
   "metadata": {},
   "outputs": [
    {
     "data": {
      "text/plain": [
       "array(['1.0', '0.0', 'nhbgvfrtd 56gyub', nan, '??????', '5285988458456.0',\n",
       "       '-948961565145.0'], dtype=object)"
      ]
     },
     "execution_count": 30,
     "metadata": {},
     "output_type": "execute_result"
    }
   ],
   "source": [
    "raw_data['touch_screen'].unique()"
   ]
  },
  {
   "cell_type": "code",
   "execution_count": 31,
   "metadata": {},
   "outputs": [],
   "source": [
    "raw_data['touch_screen'].replace('nhbgvfrtd 56gyub', np.nan, inplace=True)\n",
    "raw_data['touch_screen'].replace('??????', np.nan, inplace=True)\n",
    "raw_data['touch_screen'].replace('5285988458456.0', np.nan, inplace=True)\n",
    "raw_data['touch_screen'].replace('-948961565145.0', np.nan, inplace=True)\n",
    "raw_data['touch_screen'] = raw_data['touch_screen'].astype('category')"
   ]
  },
  {
   "cell_type": "code",
   "execution_count": 32,
   "metadata": {},
   "outputs": [
    {
     "data": {
      "text/plain": [
       "array(['3.0', '0.0', nan, '8.0', '1.0', 'nhbgvfrtd 56gyub', '7.0', '2.0',\n",
       "       '5.0', '??????', '6.0', '-948961565145.0', '5285988458456.0',\n",
       "       '4.0', '10.0', '9.0', '17.0', '14.0', '11.0', '15.0', '16.0',\n",
       "       '18.0', '12.0', '13.0', '19.0'], dtype=object)"
      ]
     },
     "execution_count": 32,
     "metadata": {},
     "output_type": "execute_result"
    }
   ],
   "source": [
    "raw_data['fc'].unique()"
   ]
  },
  {
   "cell_type": "code",
   "execution_count": 33,
   "metadata": {},
   "outputs": [],
   "source": [
    "raw_data['fc'].replace('nhbgvfrtd 56gyub', np.nan, inplace=True)\n",
    "raw_data['fc'].replace('??????', np.nan, inplace=True)\n",
    "raw_data['fc'].replace('5285988458456.0', np.nan, inplace=True)\n",
    "raw_data['fc'].replace('-948961565145.0', np.nan, inplace=True)\n",
    "raw_data['fc'] = raw_data['fc'].astype('float')"
   ]
  },
  {
   "cell_type": "code",
   "execution_count": 34,
   "metadata": {},
   "outputs": [
    {
     "data": {
      "text/plain": [
       "array(['0.0', '1.0', '5285988458456.0', nan, '-948961565145.0', '??????',\n",
       "       'nhbgvfrtd 56gyub'], dtype=object)"
      ]
     },
     "execution_count": 34,
     "metadata": {},
     "output_type": "execute_result"
    }
   ],
   "source": [
    "raw_data['four_g'].unique()"
   ]
  },
  {
   "cell_type": "code",
   "execution_count": 35,
   "metadata": {},
   "outputs": [],
   "source": [
    "raw_data['four_g'].replace('nhbgvfrtd 56gyub', np.nan, inplace=True)\n",
    "raw_data['four_g'].replace('??????', np.nan, inplace=True)\n",
    "raw_data['four_g'].replace('5285988458456.0', np.nan, inplace=True)\n",
    "raw_data['four_g'].replace('-948961565145.0', np.nan, inplace=True)\n",
    "raw_data['four_g'] = raw_data['four_g'].astype('category')"
   ]
  },
  {
   "cell_type": "code",
   "execution_count": 36,
   "metadata": {},
   "outputs": [
    {
     "data": {
      "text/plain": [
       "array(['0.0', '1.0', nan, '5285988458456.0', '-948961565145.0',\n",
       "       'nhbgvfrtd 56gyub', '??????'], dtype=object)"
      ]
     },
     "execution_count": 36,
     "metadata": {},
     "output_type": "execute_result"
    }
   ],
   "source": [
    "raw_data['blue'].unique()"
   ]
  },
  {
   "cell_type": "code",
   "execution_count": 37,
   "metadata": {},
   "outputs": [],
   "source": [
    "raw_data['blue'].replace('nhbgvfrtd 56gyub', np.nan, inplace=True)\n",
    "raw_data['blue'].replace('??????', np.nan, inplace=True)\n",
    "raw_data['blue'].replace('5285988458456.0', np.nan, inplace=True)\n",
    "raw_data['blue'].replace('-948961565145.0', np.nan, inplace=True)\n",
    "raw_data['blue'] = raw_data['blue'].astype('category')"
   ]
  },
  {
   "cell_type": "code",
   "execution_count": 38,
   "metadata": {},
   "outputs": [
    {
     "data": {
      "text/plain": [
       "array(['4.0', '2.0', '8.0', '6.0', '7.0', '5.0', '-948961565145.0', nan,\n",
       "       '??????', '5285988458456.0', '1.0', '3.0', 'nhbgvfrtd 56gyub'],\n",
       "      dtype=object)"
      ]
     },
     "execution_count": 38,
     "metadata": {},
     "output_type": "execute_result"
    }
   ],
   "source": [
    "raw_data['n_cores'].unique()"
   ]
  },
  {
   "cell_type": "code",
   "execution_count": 39,
   "metadata": {},
   "outputs": [],
   "source": [
    "raw_data['n_cores'].replace('nhbgvfrtd 56gyub', np.nan, inplace=True)\n",
    "raw_data['n_cores'].replace('??????', np.nan, inplace=True)\n",
    "raw_data['n_cores'].replace('5285988458456.0', np.nan, inplace=True)\n",
    "raw_data['n_cores'].replace('-948961565145.0', np.nan, inplace=True)\n",
    "raw_data['n_cores'] = raw_data['n_cores'].astype('float')"
   ]
  },
  {
   "cell_type": "code",
   "execution_count": 40,
   "metadata": {},
   "outputs": [
    {
     "data": {
      "text/plain": [
       "array(['0.0', '1.0', '-948961565145.0', nan, '5285988458456.0',\n",
       "       'nhbgvfrtd 56gyub', '??????'], dtype=object)"
      ]
     },
     "execution_count": 40,
     "metadata": {},
     "output_type": "execute_result"
    }
   ],
   "source": [
    "raw_data['wifi'].unique()"
   ]
  },
  {
   "cell_type": "code",
   "execution_count": 41,
   "metadata": {},
   "outputs": [],
   "source": [
    "raw_data['wifi'].replace('nhbgvfrtd 56gyub', np.nan, inplace=True)\n",
    "raw_data['wifi'].replace('??????', np.nan, inplace=True)\n",
    "raw_data['wifi'].replace('5285988458456.0', np.nan, inplace=True)\n",
    "raw_data['wifi'].replace('-948961565145.0', np.nan, inplace=True)\n",
    "raw_data['wifi'] = raw_data['wifi'].astype('category')"
   ]
  },
  {
   "cell_type": "code",
   "execution_count": 42,
   "metadata": {},
   "outputs": [
    {
     "data": {
      "text/plain": [
       "array(['1.0', 'nhbgvfrtd 56gyub', '0.0', '-948961565145.0',\n",
       "       '5285988458456.0', nan, '??????'], dtype=object)"
      ]
     },
     "execution_count": 42,
     "metadata": {},
     "output_type": "execute_result"
    }
   ],
   "source": [
    "raw_data['dual_sim'].unique()"
   ]
  },
  {
   "cell_type": "code",
   "execution_count": 43,
   "metadata": {},
   "outputs": [],
   "source": [
    "raw_data['dual_sim'].replace('nhbgvfrtd 56gyub', np.nan, inplace=True)\n",
    "raw_data['dual_sim'].replace('??????', np.nan, inplace=True)\n",
    "raw_data['dual_sim'].replace('5285988458456.0', np.nan, inplace=True)\n",
    "raw_data['dual_sim'].replace('-948961565145.0', np.nan, inplace=True)\n",
    "raw_data['dual_sim'] = raw_data['dual_sim'].astype('category')"
   ]
  },
  {
   "cell_type": "code",
   "execution_count": 44,
   "metadata": {},
   "outputs": [
    {
     "data": {
      "text/plain": [
       "array(['2933.0', '2197.0', 'nhbgvfrtd 56gyub', ..., '1788.0', '2487.0',\n",
       "       '2351.0'], dtype=object)"
      ]
     },
     "execution_count": 44,
     "metadata": {},
     "output_type": "execute_result"
    }
   ],
   "source": [
    "raw_data['ram'].unique()"
   ]
  },
  {
   "cell_type": "code",
   "execution_count": 45,
   "metadata": {},
   "outputs": [],
   "source": [
    "raw_data['ram'].replace('nhbgvfrtd 56gyub', np.nan, inplace=True)\n",
    "raw_data['ram'].replace('??????', np.nan, inplace=True)\n",
    "raw_data['ram'].replace('5285988458456.0', np.nan, inplace=True)\n",
    "raw_data['ram'].replace('-948961565145.0', np.nan, inplace=True)\n",
    "raw_data['ram'] = raw_data['ram'].astype('float')"
   ]
  },
  {
   "cell_type": "code",
   "execution_count": 46,
   "metadata": {},
   "outputs": [
    {
     "data": {
      "text/plain": [
       "array(['14.0', '10.0', 'nhbgvfrtd 56gyub', '63.0', '32.0', '29.0', '49.0',\n",
       "       '15.0', '60.0', '6.0', '53.0', '5285988458456.0', nan, '57.0',\n",
       "       '??????', '18.0', '46.0', '61.0', '26.0', '43.0', '17.0', '45.0',\n",
       "       '50.0', '5.0', '4.0', '40.0', '31.0', '21.0', '-948961565145.0',\n",
       "       '2.0', '25.0', '28.0', '34.0', '42.0', '36.0', '27.0', '19.0',\n",
       "       '16.0', '52.0', '38.0', '37.0', '9.0', '33.0', '8.0', '62.0',\n",
       "       '20.0', '51.0', '56.0', '39.0', '30.0', '11.0', '58.0', '7.0',\n",
       "       '35.0', '54.0', '12.0', '22.0', '24.0', '59.0', '41.0', '55.0',\n",
       "       '3.0', '48.0', '13.0', '47.0', '44.0', '23.0', '64.0'],\n",
       "      dtype=object)"
      ]
     },
     "execution_count": 46,
     "metadata": {},
     "output_type": "execute_result"
    }
   ],
   "source": [
    "raw_data['int_memory'].unique()"
   ]
  },
  {
   "cell_type": "code",
   "execution_count": 47,
   "metadata": {},
   "outputs": [],
   "source": [
    "raw_data['int_memory'].replace('nhbgvfrtd 56gyub', np.nan, inplace=True)\n",
    "raw_data['int_memory'].replace('??????', np.nan, inplace=True)\n",
    "raw_data['int_memory'].replace('5285988458456.0', np.nan, inplace=True)\n",
    "raw_data['int_memory'].replace('-948961565145.0', np.nan, inplace=True)\n",
    "raw_data['int_memory'] = raw_data['int_memory'].astype('float')"
   ]
  },
  {
   "cell_type": "code",
   "execution_count": 48,
   "metadata": {},
   "outputs": [
    {
     "data": {
      "text/plain": [
       "array(['1563.0', '160.0', '268.0', ..., '1406.0', '616.0', '1260.0'],\n",
       "      dtype=object)"
      ]
     },
     "execution_count": 48,
     "metadata": {},
     "output_type": "execute_result"
    }
   ],
   "source": [
    "raw_data['px_height'].unique()"
   ]
  },
  {
   "cell_type": "code",
   "execution_count": 49,
   "metadata": {},
   "outputs": [],
   "source": [
    "raw_data['px_height'].replace('nhbgvfrtd 56gyub', np.nan, inplace=True)\n",
    "raw_data['px_height'].replace('??????', np.nan, inplace=True)\n",
    "raw_data['px_height'].replace('5285988458456.0', np.nan, inplace=True)\n",
    "raw_data['px_height'].replace('-948961565145.0', np.nan, inplace=True)\n",
    "raw_data['px_height'] = raw_data['px_height'].astype('float')"
   ]
  },
  {
   "cell_type": "code",
   "execution_count": 50,
   "metadata": {},
   "outputs": [
    {
     "data": {
      "text/plain": [
       "array(['1.4', '2.8', '0.5', '1.6', '2.1', '2.4', '0.7', '1.5',\n",
       "       '-948961565145.0', '2.3', '1.1', '2.5', nan, '5285988458456.0',\n",
       "       'nhbgvfrtd 56gyub', '2.7', '0.6', '1.3', '2.2', '1.2', '1.0',\n",
       "       '0.8', '??????', '2.6', '2.9', '1.9', '0.9', '1.7', '1.8', '3.0',\n",
       "       '2.0'], dtype=object)"
      ]
     },
     "execution_count": 50,
     "metadata": {},
     "output_type": "execute_result"
    }
   ],
   "source": [
    "raw_data['clock_speed'].unique()"
   ]
  },
  {
   "cell_type": "code",
   "execution_count": 51,
   "metadata": {},
   "outputs": [],
   "source": [
    "raw_data['clock_speed'].replace('nhbgvfrtd 56gyub', np.nan, inplace=True)\n",
    "raw_data['clock_speed'].replace('??????', np.nan, inplace=True)\n",
    "raw_data['clock_speed'].replace('5285988458456.0', np.nan, inplace=True)\n",
    "raw_data['clock_speed'].replace('-948961565145.0', np.nan, inplace=True)\n",
    "raw_data['clock_speed'] = raw_data['clock_speed'].astype('float')"
   ]
  },
  {
   "cell_type": "code",
   "execution_count": 52,
   "metadata": {},
   "outputs": [],
   "source": [
    "raw_data = raw_data.drop_duplicates()\n",
    "raw_data = raw_data.dropna()"
   ]
  },
  {
   "cell_type": "markdown",
   "metadata": {},
   "source": [
    "Después de remover los datos duplicados exactos y los faltantes, el dataset quedó con 2002 columnas y 20 filas "
   ]
  },
  {
   "cell_type": "code",
   "execution_count": 53,
   "metadata": {},
   "outputs": [
    {
     "data": {
      "text/html": [
       "<div>\n",
       "<style scoped>\n",
       "    .dataframe tbody tr th:only-of-type {\n",
       "        vertical-align: middle;\n",
       "    }\n",
       "\n",
       "    .dataframe tbody tr th {\n",
       "        vertical-align: top;\n",
       "    }\n",
       "\n",
       "    .dataframe thead th {\n",
       "        text-align: right;\n",
       "    }\n",
       "</style>\n",
       "<table border=\"1\" class=\"dataframe\">\n",
       "  <thead>\n",
       "    <tr style=\"text-align: right;\">\n",
       "      <th></th>\n",
       "      <th>talk_time</th>\n",
       "      <th>battery_power</th>\n",
       "      <th>pc</th>\n",
       "      <th>three_g</th>\n",
       "      <th>mobile_wt</th>\n",
       "      <th>px_width</th>\n",
       "      <th>sc_h</th>\n",
       "      <th>sc_w</th>\n",
       "      <th>m_dep</th>\n",
       "      <th>touch_screen</th>\n",
       "      <th>...</th>\n",
       "      <th>four_g</th>\n",
       "      <th>price_range</th>\n",
       "      <th>blue</th>\n",
       "      <th>n_cores</th>\n",
       "      <th>wifi</th>\n",
       "      <th>dual_sim</th>\n",
       "      <th>ram</th>\n",
       "      <th>int_memory</th>\n",
       "      <th>px_height</th>\n",
       "      <th>clock_speed</th>\n",
       "    </tr>\n",
       "  </thead>\n",
       "  <tbody>\n",
       "    <tr>\n",
       "      <th>0</th>\n",
       "      <td>11.0</td>\n",
       "      <td>9.110000e+02</td>\n",
       "      <td>4.0</td>\n",
       "      <td>0.0</td>\n",
       "      <td>199.0</td>\n",
       "      <td>1692.0</td>\n",
       "      <td>16.0</td>\n",
       "      <td>3.0</td>\n",
       "      <td>0.7</td>\n",
       "      <td>1.0</td>\n",
       "      <td>...</td>\n",
       "      <td>0.0</td>\n",
       "      <td>3.0</td>\n",
       "      <td>0.0</td>\n",
       "      <td>4.0</td>\n",
       "      <td>0.0</td>\n",
       "      <td>1.0</td>\n",
       "      <td>2933.0</td>\n",
       "      <td>14.0</td>\n",
       "      <td>1563.0</td>\n",
       "      <td>1.4</td>\n",
       "    </tr>\n",
       "    <tr>\n",
       "      <th>18</th>\n",
       "      <td>14.0</td>\n",
       "      <td>1.698000e+03</td>\n",
       "      <td>20.0</td>\n",
       "      <td>1.0</td>\n",
       "      <td>160.0</td>\n",
       "      <td>994.0</td>\n",
       "      <td>13.0</td>\n",
       "      <td>3.0</td>\n",
       "      <td>0.9</td>\n",
       "      <td>0.0</td>\n",
       "      <td>...</td>\n",
       "      <td>1.0</td>\n",
       "      <td>0.0</td>\n",
       "      <td>0.0</td>\n",
       "      <td>6.0</td>\n",
       "      <td>1.0</td>\n",
       "      <td>0.0</td>\n",
       "      <td>796.0</td>\n",
       "      <td>18.0</td>\n",
       "      <td>363.0</td>\n",
       "      <td>2.1</td>\n",
       "    </tr>\n",
       "    <tr>\n",
       "      <th>30</th>\n",
       "      <td>9.0</td>\n",
       "      <td>1.438000e+03</td>\n",
       "      <td>6.0</td>\n",
       "      <td>1.0</td>\n",
       "      <td>176.0</td>\n",
       "      <td>1663.0</td>\n",
       "      <td>19.0</td>\n",
       "      <td>13.0</td>\n",
       "      <td>0.6</td>\n",
       "      <td>1.0</td>\n",
       "      <td>...</td>\n",
       "      <td>1.0</td>\n",
       "      <td>0.0</td>\n",
       "      <td>0.0</td>\n",
       "      <td>7.0</td>\n",
       "      <td>1.0</td>\n",
       "      <td>0.0</td>\n",
       "      <td>869.0</td>\n",
       "      <td>32.0</td>\n",
       "      <td>683.0</td>\n",
       "      <td>2.2</td>\n",
       "    </tr>\n",
       "    <tr>\n",
       "      <th>33</th>\n",
       "      <td>19.0</td>\n",
       "      <td>9.040000e+02</td>\n",
       "      <td>11.0</td>\n",
       "      <td>1.0</td>\n",
       "      <td>112.0</td>\n",
       "      <td>1014.0</td>\n",
       "      <td>13.0</td>\n",
       "      <td>3.0</td>\n",
       "      <td>0.8</td>\n",
       "      <td>0.0</td>\n",
       "      <td>...</td>\n",
       "      <td>1.0</td>\n",
       "      <td>2.0</td>\n",
       "      <td>1.0</td>\n",
       "      <td>3.0</td>\n",
       "      <td>0.0</td>\n",
       "      <td>1.0</td>\n",
       "      <td>2814.0</td>\n",
       "      <td>31.0</td>\n",
       "      <td>657.0</td>\n",
       "      <td>1.2</td>\n",
       "    </tr>\n",
       "    <tr>\n",
       "      <th>36</th>\n",
       "      <td>13.0</td>\n",
       "      <td>1.049000e+03</td>\n",
       "      <td>17.0</td>\n",
       "      <td>0.0</td>\n",
       "      <td>135.0</td>\n",
       "      <td>1077.0</td>\n",
       "      <td>11.0</td>\n",
       "      <td>3.0</td>\n",
       "      <td>0.5</td>\n",
       "      <td>0.0</td>\n",
       "      <td>...</td>\n",
       "      <td>0.0</td>\n",
       "      <td>0.0</td>\n",
       "      <td>1.0</td>\n",
       "      <td>5.0</td>\n",
       "      <td>0.0</td>\n",
       "      <td>0.0</td>\n",
       "      <td>1022.0</td>\n",
       "      <td>63.0</td>\n",
       "      <td>199.0</td>\n",
       "      <td>2.2</td>\n",
       "    </tr>\n",
       "    <tr>\n",
       "      <th>...</th>\n",
       "      <td>...</td>\n",
       "      <td>...</td>\n",
       "      <td>...</td>\n",
       "      <td>...</td>\n",
       "      <td>...</td>\n",
       "      <td>...</td>\n",
       "      <td>...</td>\n",
       "      <td>...</td>\n",
       "      <td>...</td>\n",
       "      <td>...</td>\n",
       "      <td>...</td>\n",
       "      <td>...</td>\n",
       "      <td>...</td>\n",
       "      <td>...</td>\n",
       "      <td>...</td>\n",
       "      <td>...</td>\n",
       "      <td>...</td>\n",
       "      <td>...</td>\n",
       "      <td>...</td>\n",
       "      <td>...</td>\n",
       "      <td>...</td>\n",
       "    </tr>\n",
       "    <tr>\n",
       "      <th>14921</th>\n",
       "      <td>14.0</td>\n",
       "      <td>1.979000e+03</td>\n",
       "      <td>1.0</td>\n",
       "      <td>0.0</td>\n",
       "      <td>165.0</td>\n",
       "      <td>1630.0</td>\n",
       "      <td>13.0</td>\n",
       "      <td>6.0</td>\n",
       "      <td>0.2</td>\n",
       "      <td>1.0</td>\n",
       "      <td>...</td>\n",
       "      <td>0.0</td>\n",
       "      <td>0.0</td>\n",
       "      <td>1.0</td>\n",
       "      <td>7.0</td>\n",
       "      <td>0.0</td>\n",
       "      <td>1.0</td>\n",
       "      <td>452.0</td>\n",
       "      <td>32.0</td>\n",
       "      <td>833.0</td>\n",
       "      <td>1.6</td>\n",
       "    </tr>\n",
       "    <tr>\n",
       "      <th>14934</th>\n",
       "      <td>20.0</td>\n",
       "      <td>1.652000e+03</td>\n",
       "      <td>5.0</td>\n",
       "      <td>0.0</td>\n",
       "      <td>89.0</td>\n",
       "      <td>1264.0</td>\n",
       "      <td>12.0</td>\n",
       "      <td>8.0</td>\n",
       "      <td>0.7</td>\n",
       "      <td>0.0</td>\n",
       "      <td>...</td>\n",
       "      <td>0.0</td>\n",
       "      <td>2.0</td>\n",
       "      <td>1.0</td>\n",
       "      <td>4.0</td>\n",
       "      <td>0.0</td>\n",
       "      <td>1.0</td>\n",
       "      <td>2338.0</td>\n",
       "      <td>36.0</td>\n",
       "      <td>313.0</td>\n",
       "      <td>1.1</td>\n",
       "    </tr>\n",
       "    <tr>\n",
       "      <th>14937</th>\n",
       "      <td>16.0</td>\n",
       "      <td>1.261000e+03</td>\n",
       "      <td>9.0</td>\n",
       "      <td>1.0</td>\n",
       "      <td>86.0</td>\n",
       "      <td>1429.0</td>\n",
       "      <td>9.0</td>\n",
       "      <td>3.0</td>\n",
       "      <td>0.3</td>\n",
       "      <td>0.0</td>\n",
       "      <td>...</td>\n",
       "      <td>1.0</td>\n",
       "      <td>1.0</td>\n",
       "      <td>0.0</td>\n",
       "      <td>2.0</td>\n",
       "      <td>1.0</td>\n",
       "      <td>0.0</td>\n",
       "      <td>1365.0</td>\n",
       "      <td>52.0</td>\n",
       "      <td>605.0</td>\n",
       "      <td>0.5</td>\n",
       "    </tr>\n",
       "    <tr>\n",
       "      <th>14950</th>\n",
       "      <td>12.0</td>\n",
       "      <td>1.218000e+03</td>\n",
       "      <td>14.0</td>\n",
       "      <td>0.0</td>\n",
       "      <td>150.0</td>\n",
       "      <td>1746.0</td>\n",
       "      <td>10.0</td>\n",
       "      <td>0.0</td>\n",
       "      <td>0.8</td>\n",
       "      <td>0.0</td>\n",
       "      <td>...</td>\n",
       "      <td>0.0</td>\n",
       "      <td>1.0</td>\n",
       "      <td>1.0</td>\n",
       "      <td>7.0</td>\n",
       "      <td>0.0</td>\n",
       "      <td>1.0</td>\n",
       "      <td>1667.0</td>\n",
       "      <td>39.0</td>\n",
       "      <td>1122.0</td>\n",
       "      <td>2.8</td>\n",
       "    </tr>\n",
       "    <tr>\n",
       "      <th>14955</th>\n",
       "      <td>18.0</td>\n",
       "      <td>-9.489616e+11</td>\n",
       "      <td>6.0</td>\n",
       "      <td>1.0</td>\n",
       "      <td>81.0</td>\n",
       "      <td>1524.0</td>\n",
       "      <td>16.0</td>\n",
       "      <td>3.0</td>\n",
       "      <td>0.1</td>\n",
       "      <td>1.0</td>\n",
       "      <td>...</td>\n",
       "      <td>1.0</td>\n",
       "      <td>1.0</td>\n",
       "      <td>1.0</td>\n",
       "      <td>6.0</td>\n",
       "      <td>1.0</td>\n",
       "      <td>0.0</td>\n",
       "      <td>1905.0</td>\n",
       "      <td>10.0</td>\n",
       "      <td>113.0</td>\n",
       "      <td>0.5</td>\n",
       "    </tr>\n",
       "  </tbody>\n",
       "</table>\n",
       "<p>2002 rows × 21 columns</p>\n",
       "</div>"
      ],
      "text/plain": [
       "       talk_time  battery_power    pc three_g  mobile_wt  px_width  sc_h  \\\n",
       "0           11.0   9.110000e+02   4.0     0.0      199.0    1692.0  16.0   \n",
       "18          14.0   1.698000e+03  20.0     1.0      160.0     994.0  13.0   \n",
       "30           9.0   1.438000e+03   6.0     1.0      176.0    1663.0  19.0   \n",
       "33          19.0   9.040000e+02  11.0     1.0      112.0    1014.0  13.0   \n",
       "36          13.0   1.049000e+03  17.0     0.0      135.0    1077.0  11.0   \n",
       "...          ...            ...   ...     ...        ...       ...   ...   \n",
       "14921       14.0   1.979000e+03   1.0     0.0      165.0    1630.0  13.0   \n",
       "14934       20.0   1.652000e+03   5.0     0.0       89.0    1264.0  12.0   \n",
       "14937       16.0   1.261000e+03   9.0     1.0       86.0    1429.0   9.0   \n",
       "14950       12.0   1.218000e+03  14.0     0.0      150.0    1746.0  10.0   \n",
       "14955       18.0  -9.489616e+11   6.0     1.0       81.0    1524.0  16.0   \n",
       "\n",
       "       sc_w  m_dep touch_screen  ...  four_g price_range blue n_cores  wifi  \\\n",
       "0       3.0    0.7          1.0  ...     0.0         3.0  0.0     4.0   0.0   \n",
       "18      3.0    0.9          0.0  ...     1.0         0.0  0.0     6.0   1.0   \n",
       "30     13.0    0.6          1.0  ...     1.0         0.0  0.0     7.0   1.0   \n",
       "33      3.0    0.8          0.0  ...     1.0         2.0  1.0     3.0   0.0   \n",
       "36      3.0    0.5          0.0  ...     0.0         0.0  1.0     5.0   0.0   \n",
       "...     ...    ...          ...  ...     ...         ...  ...     ...   ...   \n",
       "14921   6.0    0.2          1.0  ...     0.0         0.0  1.0     7.0   0.0   \n",
       "14934   8.0    0.7          0.0  ...     0.0         2.0  1.0     4.0   0.0   \n",
       "14937   3.0    0.3          0.0  ...     1.0         1.0  0.0     2.0   1.0   \n",
       "14950   0.0    0.8          0.0  ...     0.0         1.0  1.0     7.0   0.0   \n",
       "14955   3.0    0.1          1.0  ...     1.0         1.0  1.0     6.0   1.0   \n",
       "\n",
       "      dual_sim     ram  int_memory  px_height  clock_speed  \n",
       "0          1.0  2933.0        14.0     1563.0          1.4  \n",
       "18         0.0   796.0        18.0      363.0          2.1  \n",
       "30         0.0   869.0        32.0      683.0          2.2  \n",
       "33         1.0  2814.0        31.0      657.0          1.2  \n",
       "36         0.0  1022.0        63.0      199.0          2.2  \n",
       "...        ...     ...         ...        ...          ...  \n",
       "14921      1.0   452.0        32.0      833.0          1.6  \n",
       "14934      1.0  2338.0        36.0      313.0          1.1  \n",
       "14937      0.0  1365.0        52.0      605.0          0.5  \n",
       "14950      1.0  1667.0        39.0     1122.0          2.8  \n",
       "14955      0.0  1905.0        10.0      113.0          0.5  \n",
       "\n",
       "[2002 rows x 21 columns]"
      ]
     },
     "execution_count": 53,
     "metadata": {},
     "output_type": "execute_result"
    }
   ],
   "source": [
    "raw_data"
   ]
  },
  {
   "cell_type": "markdown",
   "metadata": {},
   "source": [
    "## Dividir el dataset en Training set y Test set\n",
    "\n",
    "Este paso debe ser al inicio de los proyectos,  Se deben realizar todas las transformaciones, preparación de datos y limpieza de los datos, en el train set y en la evaluacion se deben aplicarl al test set y a los datos nuevos que lleguen al sistema. Esta division inicial se hace para evitar data leakage de los datos de test a los datos de train, por ejemplo en las imputaciones.\n",
    "\n",
    "Por este motivo se realizara en esta parte.\n",
    "\n",
    "Division de los datos de entrenamiento (Train set) y de Evaluacion (test - set), las divisiones utilizadas son\n",
    "\n",
    "- 80% (train) , 20%(test)\n",
    "- 70% (train) , 30%(test)\n",
    "\n",
    "El **Train set** se hace para seleccion de Modelos y el **Test-set** solamente para la evaluacion Final"
   ]
  },
  {
   "cell_type": "code",
   "execution_count": 59,
   "metadata": {},
   "outputs": [],
   "source": [
    "label = {'price_range'}\n",
    "columns_set = set(raw_data.columns.values)\n",
    "x = raw_data[list(columns_set-label)]\n",
    "y = raw_data[list(label)]\n",
    "X_train, X_test, y_train, y_test = train_test_split(x, y, test_size=0.3, random_state=0)"
   ]
  },
  {
   "cell_type": "code",
   "execution_count": 60,
   "metadata": {},
   "outputs": [
    {
     "data": {
      "text/plain": [
       "True"
      ]
     },
     "execution_count": 60,
     "metadata": {},
     "output_type": "execute_result"
    }
   ],
   "source": [
    "data_train = pd.concat([X_train, y_train], axis=1)\n",
    "data_test = pd.concat([X_test, y_test], axis=1)\n",
    "len(data_test) + len(data_train) == len(raw_data)"
   ]
  },
  {
   "cell_type": "code",
   "execution_count": 61,
   "metadata": {},
   "outputs": [],
   "source": [
    "data_train.to_parquet('../data/interim/data_train.parquet', index=False)\n",
    "data_test.to_parquet('../data/interim/data_test.parquet', index=False)"
   ]
  },
  {
   "cell_type": "markdown",
   "metadata": {
    "colab_type": "text",
    "id": "5gnmm4vdHJoV"
   },
   "source": [
    "# Descripcion  y Limpieza de los datos"
   ]
  },
  {
   "cell_type": "markdown",
   "metadata": {
    "colab_type": "text",
    "id": "AFSKQY4Amzwv"
   },
   "source": [
    "## Identificacion de Variables\n",
    "- Variables de entrada y de salida\n",
    "- Tipo de Variables (categoricas o Numericas)\n",
    "- Tipo de datos (int, float, string, factor, boolean, ...)"
   ]
  },
  {
   "cell_type": "markdown",
   "metadata": {},
   "source": [
    "\n",
    "|Nombre Variable| Tipo | Descripción | Entrada / Salida |\n",
    "|--|--|--|--|\n",
    "| battery_power | Numérica | Total energy a battery can store in one time measured in mAh | Entrada |\n",
    "| blue | Categorico (binomial) | Has bluetooth or not | Entrada |\n",
    "| clock_speed | Numérico | speed at which microprocessor executes instructions | Entrada |\n",
    "| dual_sim | Categórico (binomial) | Has dual sim support or not | Entrada |\n",
    "| fc | Numérico | Front Camera mega pixels | Entrada |\n",
    "| four_g | Categórico (binomial) | Has 4G or not | Entrada |\n",
    "| int_memory | Numérico | Internal Memory in Gigabytes | Entrada |\n",
    "| m_dep | Numérico | Mobile Depth in cm | Entrada |\n",
    "| n_cores | Numérico | number of cores of processor | Entrada |\n",
    "| pc | Numérico | Primary camera mega pixels | Entrada |\n",
    "| px_height | Numérico | Pixel Resolution Height | Entrada |\n",
    "| px_width | Numérico | Pixel Resolution Width | Entrada |\n",
    "| ram | Numérico | Random Access Memory in Megabytes | Entrada |\n",
    "| sc_h | Numérico | Screen Height of mobile in cm | Entrada |\n",
    "| sc_w | Numérico | Screen Width of mobile in cm | Entrada |\n",
    "| talk_time | Numérico | longest time that a single battery charge will last when you are | Entrada |\n",
    "| three_g | Categórico (binomial) | Has 3G or not | Entrada |\n",
    "| touch_screen | Categórico (binomial) | Has touch screen or not | Entrada |\n",
    "| wifi | Categórico (binomial) | Has wifi or not | Entrada |\n",
    "| price_range | Numérico | Rango de precios se dan por las categorias [0,1,2,3] | Salida |"
   ]
  },
  {
   "cell_type": "code",
   "execution_count": null,
   "metadata": {
    "colab": {},
    "colab_type": "code",
    "id": "bnXkopIFHJob"
   },
   "outputs": [],
   "source": []
  },
  {
   "cell_type": "markdown",
   "metadata": {},
   "source": [
    "## Analisis General Univariable y Bivariable \n",
    "Analisis de cada una de las variables para lograr calidad de datos en cada columna\n",
    "- **Correccion del tipo de dato (numericas, categoricas, string) de cada columna (optimizar memoria)**\n",
    "- Deteccion de numero de datos faltantes\n",
    "- Deteccion de duplicados"
   ]
  },
  {
   "cell_type": "markdown",
   "metadata": {
    "colab_type": "text",
    "id": "k5CEar_Cnw2x"
   },
   "source": [
    "## Eliminar columnas de datos Innecesarios\n",
    "\n",
    "Analizar el problema a resolver e indentificar cuales variables no brindan informacion y borrarlas."
   ]
  },
  {
   "cell_type": "markdown",
   "metadata": {},
   "source": [
    "En este paso se eliminaron las columnas no existentes en la descripción del dataset"
   ]
  },
  {
   "cell_type": "markdown",
   "metadata": {
    "colab_type": "text",
    "id": "que3vMzKnhwJ"
   },
   "source": [
    "## Remover Datos Duplicados Exactos\n",
    "\n",
    "Hacer al principio luego de cargar los datos y cada vez luego de Hacer imputaciones, eliminacion de columnas o registros."
   ]
  },
  {
   "cell_type": "markdown",
   "metadata": {},
   "source": [
    "Se realizó al inicio "
   ]
  },
  {
   "cell_type": "markdown",
   "metadata": {
    "colab_type": "text",
    "id": "2LmnrQtbHJox"
   },
   "source": [
    "## Procesamiento de Datos Faltantes\n",
    "Las opciones que se pueden usar dependiendo del analisis de los datos son:\n",
    "### Borrar Filas\n",
    "- Borrar las filas que les falten todos los datos\n",
    "- Borrar Solo las filas que les falta las variables mas importantes o la salida"
   ]
  },
  {
   "cell_type": "code",
   "execution_count": null,
   "metadata": {
    "colab": {},
    "colab_type": "code",
    "id": "zFwqgwOhHJox"
   },
   "outputs": [],
   "source": []
  },
  {
   "cell_type": "markdown",
   "metadata": {
    "colab_type": "text",
    "id": "1S_iRK8rHJo0"
   },
   "source": [
    "### Reemplazar datos faltantes con la Media/ Moda/ Mediana (Mean/ Mode/ Median Imputation)\n",
    "De necesitarse hacer imputacion se debe verificar los outliers para no cometer errores en la imputacion"
   ]
  },
  {
   "cell_type": "code",
   "execution_count": null,
   "metadata": {
    "colab": {},
    "colab_type": "code",
    "id": "kIIWI1KCHJo0"
   },
   "outputs": [],
   "source": []
  },
  {
   "cell_type": "markdown",
   "metadata": {
    "colab_type": "text",
    "id": "GnkcN0goHJod"
   },
   "source": [
    "## Analisis Univariable\n",
    "\n",
    "Estadistico Descriptico y Analisis"
   ]
  },
  {
   "cell_type": "markdown",
   "metadata": {
    "colab_type": "text",
    "id": "LEvH4-LGHJod"
   },
   "source": [
    "### Variables Numericas\n",
    "\n",
    "Tendencia Central  | Medida de Dispersión  |  Visualizacion\n",
    " :---: | :---: | :---:\n",
    "Media   | Rango      |  Histogramas\n",
    "Mediana | Cuartiles  |  Boxplots\n",
    "Moda    | Rango inter cuartil (IQR)|  \n",
    "Minimo  | Varianza   |  \n",
    "Maximo  | Desviacion Estandard | \n",
    "   .    | Skewness   |  \n",
    " .      | Kurtosis   |  "
   ]
  },
  {
   "cell_type": "code",
   "execution_count": null,
   "metadata": {
    "colab": {},
    "colab_type": "code",
    "id": "CDTBsGi0HJoe"
   },
   "outputs": [],
   "source": []
  },
  {
   "cell_type": "markdown",
   "metadata": {
    "colab_type": "text",
    "id": "mXQHmtMbHJoh"
   },
   "source": [
    "### Variables Categoricas\n",
    "- Numero de elementos por categoria\n",
    "- Porcentaje de elementos por categoria\n",
    "- Graficos de barras"
   ]
  },
  {
   "cell_type": "code",
   "execution_count": null,
   "metadata": {
    "colab": {},
    "colab_type": "code",
    "id": "hPY0sHqNHJoi"
   },
   "outputs": [],
   "source": []
  },
  {
   "cell_type": "markdown",
   "metadata": {
    "colab_type": "text",
    "id": "jmf_f9TOHJok"
   },
   "source": [
    "## Analisis Bivariable\n",
    "Estadistico Descriptico y Analisis"
   ]
  },
  {
   "cell_type": "markdown",
   "metadata": {
    "colab_type": "text",
    "id": "3aVUkwJVHJom"
   },
   "source": [
    "### Numericas vs Numericas\n",
    "- Scatter Plot\n",
    "- Heatmap\n",
    "- Correlacion"
   ]
  },
  {
   "cell_type": "code",
   "execution_count": null,
   "metadata": {
    "colab": {},
    "colab_type": "code",
    "id": "067r3JdGHJon"
   },
   "outputs": [],
   "source": []
  },
  {
   "cell_type": "markdown",
   "metadata": {
    "colab_type": "text",
    "id": "9SfZHh6oHJor"
   },
   "source": [
    "### Categoricas vs Categoricas\n",
    "\n",
    "- Two-way table\n",
    "- Graficas de Barras apiladas\n",
    "- Chi-Square Test"
   ]
  },
  {
   "cell_type": "code",
   "execution_count": null,
   "metadata": {
    "colab": {},
    "colab_type": "code",
    "id": "T544jyPsHJos"
   },
   "outputs": [],
   "source": []
  },
  {
   "cell_type": "markdown",
   "metadata": {
    "colab_type": "text",
    "id": "oQKXaEcqHJou"
   },
   "source": [
    "### Categoricas vs Numericas\n",
    "- Z-Test/ T-Test\n",
    "- ANOVA"
   ]
  },
  {
   "cell_type": "code",
   "execution_count": null,
   "metadata": {
    "colab": {},
    "colab_type": "code",
    "id": "F8coJJA6HJov"
   },
   "outputs": [],
   "source": []
  },
  {
   "cell_type": "markdown",
   "metadata": {
    "colab_type": "text",
    "id": "r2X6dK04HJpD"
   },
   "source": [
    "## Procesamiento de Outliers\n",
    "### Deteccion de Outliers (Univariables y Bi variables)\n",
    "- Boxplots\n",
    "- Scatter Plots\n",
    "- Histogramas"
   ]
  },
  {
   "cell_type": "code",
   "execution_count": null,
   "metadata": {
    "colab": {},
    "colab_type": "code",
    "id": "bc5mYM_qHJpE"
   },
   "outputs": [],
   "source": []
  },
  {
   "cell_type": "markdown",
   "metadata": {
    "colab_type": "text",
    "id": "aiDgzB32HJpI"
   },
   "source": [
    "### Remover Outliers\n",
    "las opciones son:\n",
    "- Borrar los datos atipicos (outliers) \n",
    "- Transformar la variable (Ej: escalar, cambiar a esccala Log o a Escala lineal)\n",
    "- Reemplazar los outliers conla Media/ Moda/ Mediana (Mean/ Mode/ Median Imputation)\n",
    "- Reemplazar valores con modelo predictivo\n",
    "- Separarlos y analizarlos aparte (si son muchos outliers)\n"
   ]
  },
  {
   "cell_type": "code",
   "execution_count": null,
   "metadata": {
    "colab": {},
    "colab_type": "code",
    "id": "DsDqeIPbHJpI"
   },
   "outputs": [],
   "source": []
  },
  {
   "cell_type": "markdown",
   "metadata": {
    "colab_type": "text",
    "id": "r2X6dK04HJpD"
   },
   "source": [
    "## Procesamiento de Outliers\n",
    "### Deteccion de Outliers (Univariables y Bi variables)\n",
    "- Boxplots\n",
    "- Scatter Plots\n",
    "- Histogramas"
   ]
  },
  {
   "cell_type": "code",
   "execution_count": null,
   "metadata": {
    "colab": {},
    "colab_type": "code",
    "id": "bc5mYM_qHJpE"
   },
   "outputs": [],
   "source": []
  },
  {
   "cell_type": "markdown",
   "metadata": {
    "colab_type": "text",
    "id": "aiDgzB32HJpI"
   },
   "source": [
    "### Remover Outliers\n",
    "las opciones son:\n",
    "- Borrar los datos atipicos (outliers) \n",
    "- Transformar la variable (Ej: escalar, cambiar a esccala Log o a Escala lineal)\n",
    "- Reemplazar los outliers conla Media/ Moda/ Mediana (Mean/ Mode/ Median Imputation)\n",
    "- Reemplazar valores con modelo predictivo\n",
    "- Separarlos y analizarlos aparte (si son muchos outliers)\n"
   ]
  },
  {
   "cell_type": "code",
   "execution_count": null,
   "metadata": {
    "colab": {},
    "colab_type": "code",
    "id": "DsDqeIPbHJpI"
   },
   "outputs": [],
   "source": []
  },
  {
   "cell_type": "markdown",
   "metadata": {
    "colab_type": "text",
    "id": "s4Fn2YIvHJpL"
   },
   "source": [
    "## Feature Engineering \n",
    "### Transformacion de Variables\n",
    "**Se usa cuando es necesario:**\n",
    "- Cambiar la escala las variables (Normalizar, escalamiento, etc), esto no cambia la forma de la distribucion de los datos\n",
    "- Cambiar relaciones No ineales en Lineales (Ej: cambiar la escala Logaritmica a lineal)\n",
    "- Usar una la distribución simétrica en vez de una distribución sesgada o asimetrica, Para una la distribución sesgada a la derecha, tomamos la raíz cuadrada / cúbica o el logaritmo de la variable, y para la desviación a la izquierda, tomamos el cuadrado / cubo o exponencial de las variables.\n",
    "- Cambair variables continuas a categoricas\n",
    "\n",
    "Algunas transformaciones son:"
   ]
  },
  {
   "cell_type": "markdown",
   "metadata": {
    "colab_type": "text",
    "id": "he4lxsEUHJpM"
   },
   "source": [
    "#### Normalizacion"
   ]
  },
  {
   "cell_type": "code",
   "execution_count": null,
   "metadata": {
    "colab": {},
    "colab_type": "code",
    "id": "7giKrRY8HJpM"
   },
   "outputs": [],
   "source": []
  },
  {
   "cell_type": "markdown",
   "metadata": {
    "colab_type": "text",
    "id": "h0FKIrJHHJpO"
   },
   "source": [
    "#### Escalamiento"
   ]
  },
  {
   "cell_type": "code",
   "execution_count": null,
   "metadata": {
    "colab": {},
    "colab_type": "code",
    "id": "hzGcwGaWHJpP"
   },
   "outputs": [],
   "source": []
  },
  {
   "cell_type": "markdown",
   "metadata": {
    "colab_type": "text",
    "id": "jYPdefrhHJpS"
   },
   "source": [
    "#### Logaritmica"
   ]
  },
  {
   "cell_type": "code",
   "execution_count": null,
   "metadata": {
    "colab": {},
    "colab_type": "code",
    "id": "wU-lW1AQHJpS"
   },
   "outputs": [],
   "source": []
  },
  {
   "cell_type": "markdown",
   "metadata": {
    "colab_type": "text",
    "id": "zUundEM6HJpT"
   },
   "source": [
    "#### raíz cuadrada / cúbica"
   ]
  },
  {
   "cell_type": "code",
   "execution_count": null,
   "metadata": {
    "colab": {},
    "colab_type": "code",
    "id": "5woteVvBHJpU"
   },
   "outputs": [],
   "source": []
  },
  {
   "cell_type": "markdown",
   "metadata": {
    "colab_type": "text",
    "id": "2GNrgJzHHJpW"
   },
   "source": [
    "#### Binning , Cambios de Numericas a Categoricas"
   ]
  },
  {
   "cell_type": "code",
   "execution_count": null,
   "metadata": {
    "colab": {},
    "colab_type": "code",
    "id": "cS5y1OPSHJpW"
   },
   "outputs": [],
   "source": []
  },
  {
   "cell_type": "markdown",
   "metadata": {
    "colab_type": "text",
    "id": "I6PpnSEDHJpY"
   },
   "source": [
    "## Analisis Univariable y Bivariable Final\n",
    "Luego de Realizar:\n",
    "- Tratamiento de datos Nulos\n",
    "- Tratamiento de outliers\n",
    "- Transformacion de Variables\n",
    "\n",
    "Es necesario realizar nuevamente analisis univarible y bivariable para identificar como cambiaron nuestros datos y para verificar si estan listos para usarse para crear un modelo."
   ]
  },
  {
   "cell_type": "markdown",
   "metadata": {
    "colab_type": "text",
    "id": "uRwep7LjHJpZ"
   },
   "source": [
    "### Creacion de Variables\n",
    "pueden ser:\n",
    "#### Crear Variables derivadas de Otras"
   ]
  },
  {
   "cell_type": "code",
   "execution_count": null,
   "metadata": {
    "colab": {},
    "colab_type": "code",
    "id": "ywBVDG8vHJpZ"
   },
   "outputs": [],
   "source": []
  },
  {
   "cell_type": "markdown",
   "metadata": {
    "colab_type": "text",
    "id": "JCcM4XFbHJpd"
   },
   "source": [
    "#### Crear Variables de Categorico a Numerico\n",
    "Puede ser\n",
    "- Definir un numero a cada categoria\n",
    "- One hot encoder (dummy columns)"
   ]
  },
  {
   "cell_type": "markdown",
   "metadata": {
    "colab_type": "text",
    "id": "ubILpEdWHJpi"
   },
   "source": [
    "## Reduccion de Dimensionalidad y Seleccion de Variables (PCA)\n",
    "\n",
    "De ser necesario si tiene muchas variables o sospecha que aun tiene variables que no aportan mucho"
   ]
  },
  {
   "cell_type": "code",
   "execution_count": null,
   "metadata": {
    "colab": {},
    "colab_type": "code",
    "id": "S2JIcRk-HJpi"
   },
   "outputs": [],
   "source": []
  },
  {
   "cell_type": "markdown",
   "metadata": {
    "colab_type": "text",
    "id": "oEu3sW98HJpk"
   },
   "source": []
  },
  {
   "cell_type": "code",
   "execution_count": null,
   "metadata": {
    "colab": {},
    "colab_type": "code",
    "id": "lw3hG0rCHJpl"
   },
   "outputs": [],
   "source": []
  },
  {
   "cell_type": "markdown",
   "metadata": {},
   "source": [
    "# MODELAMIENTO DE LOS DATOS (MACHINE LEARNING)\n"
   ]
  },
  {
   "cell_type": "code",
   "execution_count": null,
   "metadata": {},
   "outputs": [],
   "source": []
  },
  {
   "cell_type": "markdown",
   "metadata": {},
   "source": []
  },
  {
   "cell_type": "code",
   "execution_count": null,
   "metadata": {},
   "outputs": [],
   "source": []
  },
  {
   "cell_type": "markdown",
   "metadata": {},
   "source": [
    "# Validacion y Evaluacion Cruzada (k-fold Cross Validation)\n",
    "\n",
    "Se hace seleccion de los mejores modelos usando el Training Set y k-fold Cross Validation"
   ]
  },
  {
   "cell_type": "code",
   "execution_count": null,
   "metadata": {},
   "outputs": [],
   "source": []
  },
  {
   "cell_type": "markdown",
   "metadata": {},
   "source": [
    "# Optimizacion de Hiper parametros (Hyper Parameter optimization)\n",
    "\n",
    "Se seleccionan solo los mejores modelos para realizar el ajuste de hiperparametros, ya que tiene una carga computacional alta.\n",
    "\n",
    "Al final se obtienen los parametros del mejor modelo"
   ]
  },
  {
   "cell_type": "code",
   "execution_count": null,
   "metadata": {},
   "outputs": [],
   "source": []
  },
  {
   "cell_type": "markdown",
   "metadata": {},
   "source": [
    "# Evaluacion final del modelo con el Test set\n",
    "\n",
    "Tomar los parametros obtenidos en el paso anterior, se crea el modelo con esos pararmetros y se entrena el modelo con todos los datos del **Train -set**\n",
    "\n",
    "Finalmente se realiza la evaluacion (segun su problema si es de regresion o de clasificacion) usando el **Test - set** para definir si el modelo obtenido esta bien. Compare los resultados con el **Train -set** vs los resultados con el **Test - set**"
   ]
  },
  {
   "cell_type": "code",
   "execution_count": null,
   "metadata": {},
   "outputs": [],
   "source": []
  },
  {
   "cell_type": "markdown",
   "metadata": {},
   "source": [
    "# Implementacion del Modelo (Deploying)\n",
    "Con el análisis básico y el ajuste hecho, comienza el trabajo real (ingeniería).\n",
    "\n",
    "El último paso para poner en produccion el modelo de prediccion sera:\n",
    "1. Entrenarlo en todo el conjunto de datos nuevamente, para hacer un uso completo de todos los datos disponibles. \n",
    "2. Usar los mejores parámetros encontrados mediante la validación cruzada, por supuesto. Esto es muy similar a lo que hicimos al principio, pero esta vez teniendo una idea de su comportamiento y estabilidad. La evaluación se realizó con honestidad, en divisiones distintas de entrenamiento / prueba.\n",
    "\n",
    "El predictor final se puede serializar y grabar en el disco, de modo que la próxima vez que lo usemos, podemos omitir todo el entrenamiento y usar el modelo capacitado directamente:"
   ]
  },
  {
   "cell_type": "code",
   "execution_count": 54,
   "metadata": {},
   "outputs": [],
   "source": [
    "#import pickle # Esta es una libreria de serializacion nativa de python, puede tener problemas de seguridad\n",
    "from joblib import dump # libreria de serializacion\n",
    "\n",
    "# garbar el modelo en un archivo\n",
    "#dump(Modelo_final, 'Nombre_Archivo_Modelo.joblib')"
   ]
  },
  {
   "cell_type": "code",
   "execution_count": null,
   "metadata": {},
   "outputs": [],
   "source": []
  },
  {
   "cell_type": "markdown",
   "metadata": {},
   "source": [
    "# Comunicacion de Resultados (Data Story Telling)"
   ]
  },
  {
   "cell_type": "code",
   "execution_count": null,
   "metadata": {},
   "outputs": [],
   "source": []
  },
  {
   "cell_type": "markdown",
   "metadata": {},
   "source": [
    "# Conclusiones"
   ]
  },
  {
   "cell_type": "code",
   "execution_count": null,
   "metadata": {},
   "outputs": [],
   "source": []
  },
  {
   "cell_type": "markdown",
   "metadata": {},
   "source": [
    "# Ayudas Y Referencias\n",
    "\n",
    "- https://medium.com/@joserzapata/paso-a-paso-en-un-proyecto-machine-learning-bcdd0939d387\n",
    "- [Proyecto de Principio a Final sobre readmision de pacientes con Diabetes](https://github.com/JoseRZapata/Readmission-ML-Project)\n",
    "\n",
    "- [a-complete-machine-learning-walk-through-in-python-part-one](https://towardsdatascience.com/a-complete-machine-learning-walk-through-in-python-part-one-c62152f39420)\n",
    "\n",
    "\n",
    "- [a-starter-pack-to-exploratory-data-analysis-with-python-pandas-seaborn-and-scikit-learn](https://towardsdatascience.com/a-starter-pack-to-exploratory-data-analysis-with-python-pandas-seaborn-and-scikit-learn-a77889485baf#249d)\n",
    "\n",
    "- [a-data-science-for-good-machine-learning-project-walk-through-in-python-part-one](https://towardsdatascience.com/a-data-science-for-good-machine-learning-project-walk-through-in-python-part-one-1977dd701dbc)\n",
    "\n",
    "- [Ejemplos de Kaggle](https://www.kaggle.com/kernels?sortBy=hotness&group=everyone&pageSize=20&language=Python&kernelType=Notebook)\n",
    "\n",
    "- [END to END ML from data colletion to deployment](https://medium.com/datadriveninvestor/end-to-end-machine-learning-from-data-collection-to-deployment-ce74f51ca203)"
   ]
  },
  {
   "cell_type": "markdown",
   "metadata": {},
   "source": [
    "Docente: [Jose R. Zapata](https://joserzapata.github.io)\n",
    "- https://joserzapata.github.io\n",
    "- https://twitter.com/joserzapata\n",
    "- https://www.linkedin.com/in/jose-ricardo-zapata-gonzalez/   "
   ]
  }
 ],
 "metadata": {
  "colab": {
   "collapsed_sections": [
    "mXQHmtMbHJoh",
    "3aVUkwJVHJom",
    "9SfZHh6oHJor",
    "1S_iRK8rHJo0",
    "Ey5Lk8evHJo3",
    "0Y0UV-GVHJo6",
    "he4lxsEUHJpM",
    "h0FKIrJHHJpO",
    "jYPdefrhHJpS",
    "zUundEM6HJpT",
    "2GNrgJzHHJpW",
    "uRwep7LjHJpZ",
    "JCcM4XFbHJpd"
   ],
   "name": "Trabajo_Preparacion_Datos_JoseR_Zapata.ipynb",
   "provenance": []
  },
  "kernelspec": {
   "display_name": "Python 3.10.2 64-bit",
   "language": "python",
   "name": "python3"
  },
  "language_info": {
   "codemirror_mode": {
    "name": "ipython",
    "version": 3
   },
   "file_extension": ".py",
   "mimetype": "text/x-python",
   "name": "python",
   "nbconvert_exporter": "python",
   "pygments_lexer": "ipython3",
   "version": "3.10.2"
  },
  "nbTranslate": {
   "displayLangs": [
    "es",
    "en"
   ],
   "hotkey": "alt-t",
   "langInMainMenu": true,
   "sourceLang": "en",
   "targetLang": "es",
   "useGoogleTranslate": true
  },
  "toc": {
   "base_numbering": 1,
   "nav_menu": {},
   "number_sections": true,
   "sideBar": true,
   "skip_h1_title": false,
   "title_cell": "Contenido",
   "title_sidebar": "Contenido",
   "toc_cell": true,
   "toc_position": {},
   "toc_section_display": true,
   "toc_window_display": false
  },
  "varInspector": {
   "cols": {
    "lenName": 16,
    "lenType": 16,
    "lenVar": 40
   },
   "kernels_config": {
    "python": {
     "delete_cmd_postfix": "",
     "delete_cmd_prefix": "del ",
     "library": "var_list.py",
     "varRefreshCmd": "print(var_dic_list())"
    },
    "r": {
     "delete_cmd_postfix": ") ",
     "delete_cmd_prefix": "rm(",
     "library": "var_list.r",
     "varRefreshCmd": "cat(var_dic_list()) "
    }
   },
   "types_to_exclude": [
    "module",
    "function",
    "builtin_function_or_method",
    "instance",
    "_Feature"
   ],
   "window_display": false
  },
  "vscode": {
   "interpreter": {
    "hash": "5c6e8b7d5fc8ed5737cacc7e599928c7811d7782033340de08b8148e72c567d8"
   }
  }
 },
 "nbformat": 4,
 "nbformat_minor": 4
}
